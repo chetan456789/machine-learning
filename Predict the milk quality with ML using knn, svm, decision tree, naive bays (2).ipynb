{
 "cells": [
  {
   "cell_type": "code",
   "execution_count": 1,
   "id": "e1349473",
   "metadata": {},
   "outputs": [],
   "source": [
    "import numpy as np\n",
    "import pandas as pd\n",
    "%matplotlib inline\n",
    "import matplotlib.pyplot as plt\n",
    "import warnings\n",
    "warnings.filterwarnings('ignore')\n",
    "import seaborn as sns\n",
    "from sklearn.model_selection import train_test_split\n",
    "from sklearn.preprocessing import StandardScaler\n",
    "from sklearn.metrics import accuracy_score, confusion_matrix, classification_report\n"
   ]
  },
  {
   "cell_type": "code",
   "execution_count": 59,
   "id": "4a5c4b4c",
   "metadata": {},
   "outputs": [
    {
     "data": {
      "text/html": [
       "<div>\n",
       "<style scoped>\n",
       "    .dataframe tbody tr th:only-of-type {\n",
       "        vertical-align: middle;\n",
       "    }\n",
       "\n",
       "    .dataframe tbody tr th {\n",
       "        vertical-align: top;\n",
       "    }\n",
       "\n",
       "    .dataframe thead th {\n",
       "        text-align: right;\n",
       "    }\n",
       "</style>\n",
       "<table border=\"1\" class=\"dataframe\">\n",
       "  <thead>\n",
       "    <tr style=\"text-align: right;\">\n",
       "      <th></th>\n",
       "      <th>pH</th>\n",
       "      <th>Temprature</th>\n",
       "      <th>Taste</th>\n",
       "      <th>Odor</th>\n",
       "      <th>Fat</th>\n",
       "      <th>Turbidity</th>\n",
       "      <th>Colour</th>\n",
       "      <th>Grade</th>\n",
       "    </tr>\n",
       "  </thead>\n",
       "  <tbody>\n",
       "    <tr>\n",
       "      <th>0</th>\n",
       "      <td>6.6</td>\n",
       "      <td>35</td>\n",
       "      <td>1</td>\n",
       "      <td>0</td>\n",
       "      <td>1</td>\n",
       "      <td>0</td>\n",
       "      <td>254</td>\n",
       "      <td>high</td>\n",
       "    </tr>\n",
       "    <tr>\n",
       "      <th>1</th>\n",
       "      <td>6.6</td>\n",
       "      <td>36</td>\n",
       "      <td>0</td>\n",
       "      <td>1</td>\n",
       "      <td>0</td>\n",
       "      <td>1</td>\n",
       "      <td>253</td>\n",
       "      <td>high</td>\n",
       "    </tr>\n",
       "    <tr>\n",
       "      <th>2</th>\n",
       "      <td>8.5</td>\n",
       "      <td>70</td>\n",
       "      <td>1</td>\n",
       "      <td>1</td>\n",
       "      <td>1</td>\n",
       "      <td>1</td>\n",
       "      <td>246</td>\n",
       "      <td>low</td>\n",
       "    </tr>\n",
       "    <tr>\n",
       "      <th>3</th>\n",
       "      <td>9.5</td>\n",
       "      <td>34</td>\n",
       "      <td>1</td>\n",
       "      <td>1</td>\n",
       "      <td>0</td>\n",
       "      <td>1</td>\n",
       "      <td>255</td>\n",
       "      <td>low</td>\n",
       "    </tr>\n",
       "    <tr>\n",
       "      <th>4</th>\n",
       "      <td>6.6</td>\n",
       "      <td>37</td>\n",
       "      <td>0</td>\n",
       "      <td>0</td>\n",
       "      <td>0</td>\n",
       "      <td>0</td>\n",
       "      <td>255</td>\n",
       "      <td>medium</td>\n",
       "    </tr>\n",
       "  </tbody>\n",
       "</table>\n",
       "</div>"
      ],
      "text/plain": [
       "    pH  Temprature  Taste  Odor  Fat   Turbidity  Colour   Grade\n",
       "0  6.6          35      1     0     1          0     254    high\n",
       "1  6.6          36      0     1     0          1     253    high\n",
       "2  8.5          70      1     1     1          1     246     low\n",
       "3  9.5          34      1     1     0          1     255     low\n",
       "4  6.6          37      0     0     0          0     255  medium"
      ]
     },
     "execution_count": 59,
     "metadata": {},
     "output_type": "execute_result"
    }
   ],
   "source": [
    "df=pd.read_csv(\"D:\\milknew.csv\")\n",
    "df.head()"
   ]
  },
  {
   "cell_type": "code",
   "execution_count": 3,
   "id": "b932ba04",
   "metadata": {},
   "outputs": [
    {
     "data": {
      "text/plain": [
       "Index(['pH', 'Temprature', 'Taste', 'Odor', 'Fat ', 'Turbidity', 'Colour',\n",
       "       'Grade'],\n",
       "      dtype='object')"
      ]
     },
     "execution_count": 3,
     "metadata": {},
     "output_type": "execute_result"
    }
   ],
   "source": [
    "df.columns"
   ]
  },
  {
   "cell_type": "code",
   "execution_count": 4,
   "id": "b5186382",
   "metadata": {},
   "outputs": [],
   "source": [
    "X=df.drop('Grade', axis=1)\n",
    "y=df['Grade']"
   ]
  },
  {
   "cell_type": "code",
   "execution_count": 5,
   "id": "5e0f4be3",
   "metadata": {},
   "outputs": [
    {
     "data": {
      "text/html": [
       "<div>\n",
       "<style scoped>\n",
       "    .dataframe tbody tr th:only-of-type {\n",
       "        vertical-align: middle;\n",
       "    }\n",
       "\n",
       "    .dataframe tbody tr th {\n",
       "        vertical-align: top;\n",
       "    }\n",
       "\n",
       "    .dataframe thead th {\n",
       "        text-align: right;\n",
       "    }\n",
       "</style>\n",
       "<table border=\"1\" class=\"dataframe\">\n",
       "  <thead>\n",
       "    <tr style=\"text-align: right;\">\n",
       "      <th></th>\n",
       "      <th>pH</th>\n",
       "      <th>Temprature</th>\n",
       "      <th>Taste</th>\n",
       "      <th>Odor</th>\n",
       "      <th>Fat</th>\n",
       "      <th>Turbidity</th>\n",
       "      <th>Colour</th>\n",
       "    </tr>\n",
       "  </thead>\n",
       "  <tbody>\n",
       "    <tr>\n",
       "      <th>0</th>\n",
       "      <td>6.6</td>\n",
       "      <td>35</td>\n",
       "      <td>1</td>\n",
       "      <td>0</td>\n",
       "      <td>1</td>\n",
       "      <td>0</td>\n",
       "      <td>254</td>\n",
       "    </tr>\n",
       "    <tr>\n",
       "      <th>1</th>\n",
       "      <td>6.6</td>\n",
       "      <td>36</td>\n",
       "      <td>0</td>\n",
       "      <td>1</td>\n",
       "      <td>0</td>\n",
       "      <td>1</td>\n",
       "      <td>253</td>\n",
       "    </tr>\n",
       "    <tr>\n",
       "      <th>2</th>\n",
       "      <td>8.5</td>\n",
       "      <td>70</td>\n",
       "      <td>1</td>\n",
       "      <td>1</td>\n",
       "      <td>1</td>\n",
       "      <td>1</td>\n",
       "      <td>246</td>\n",
       "    </tr>\n",
       "    <tr>\n",
       "      <th>3</th>\n",
       "      <td>9.5</td>\n",
       "      <td>34</td>\n",
       "      <td>1</td>\n",
       "      <td>1</td>\n",
       "      <td>0</td>\n",
       "      <td>1</td>\n",
       "      <td>255</td>\n",
       "    </tr>\n",
       "    <tr>\n",
       "      <th>4</th>\n",
       "      <td>6.6</td>\n",
       "      <td>37</td>\n",
       "      <td>0</td>\n",
       "      <td>0</td>\n",
       "      <td>0</td>\n",
       "      <td>0</td>\n",
       "      <td>255</td>\n",
       "    </tr>\n",
       "  </tbody>\n",
       "</table>\n",
       "</div>"
      ],
      "text/plain": [
       "    pH  Temprature  Taste  Odor  Fat   Turbidity  Colour\n",
       "0  6.6          35      1     0     1          0     254\n",
       "1  6.6          36      0     1     0          1     253\n",
       "2  8.5          70      1     1     1          1     246\n",
       "3  9.5          34      1     1     0          1     255\n",
       "4  6.6          37      0     0     0          0     255"
      ]
     },
     "execution_count": 5,
     "metadata": {},
     "output_type": "execute_result"
    }
   ],
   "source": [
    "X.head()"
   ]
  },
  {
   "cell_type": "code",
   "execution_count": 6,
   "id": "3bf75fea",
   "metadata": {},
   "outputs": [],
   "source": [
    "# here you can see there is no target variable"
   ]
  },
  {
   "cell_type": "markdown",
   "id": "242d5347",
   "metadata": {},
   "source": [
    "here we can see the feature name of the given dataset"
   ]
  },
  {
   "cell_type": "code",
   "execution_count": 7,
   "id": "a4e7002f",
   "metadata": {},
   "outputs": [
    {
     "data": {
      "text/plain": [
       "(1059, 8)"
      ]
     },
     "execution_count": 7,
     "metadata": {},
     "output_type": "execute_result"
    }
   ],
   "source": [
    "df.shape"
   ]
  },
  {
   "cell_type": "code",
   "execution_count": 8,
   "id": "7c581ba3",
   "metadata": {},
   "outputs": [
    {
     "data": {
      "text/plain": [
       "pH            0\n",
       "Temprature    0\n",
       "Taste         0\n",
       "Odor          0\n",
       "Fat           0\n",
       "Turbidity     0\n",
       "Colour        0\n",
       "Grade         0\n",
       "dtype: int64"
      ]
     },
     "execution_count": 8,
     "metadata": {},
     "output_type": "execute_result"
    }
   ],
   "source": [
    "pd.isnull(df).sum()"
   ]
  },
  {
   "cell_type": "markdown",
   "id": "10d776fd",
   "metadata": {},
   "source": [
    "so as we can see there is no any null values in dataset"
   ]
  },
  {
   "cell_type": "code",
   "execution_count": 9,
   "id": "d8278e4a",
   "metadata": {},
   "outputs": [
    {
     "data": {
      "text/html": [
       "<div>\n",
       "<style scoped>\n",
       "    .dataframe tbody tr th:only-of-type {\n",
       "        vertical-align: middle;\n",
       "    }\n",
       "\n",
       "    .dataframe tbody tr th {\n",
       "        vertical-align: top;\n",
       "    }\n",
       "\n",
       "    .dataframe thead th {\n",
       "        text-align: right;\n",
       "    }\n",
       "</style>\n",
       "<table border=\"1\" class=\"dataframe\">\n",
       "  <thead>\n",
       "    <tr style=\"text-align: right;\">\n",
       "      <th></th>\n",
       "      <th>pH</th>\n",
       "      <th>Temprature</th>\n",
       "      <th>Taste</th>\n",
       "      <th>Odor</th>\n",
       "      <th>Fat</th>\n",
       "      <th>Turbidity</th>\n",
       "      <th>Colour</th>\n",
       "    </tr>\n",
       "  </thead>\n",
       "  <tbody>\n",
       "    <tr>\n",
       "      <th>count</th>\n",
       "      <td>1059.000000</td>\n",
       "      <td>1059.000000</td>\n",
       "      <td>1059.000000</td>\n",
       "      <td>1059.000000</td>\n",
       "      <td>1059.000000</td>\n",
       "      <td>1059.000000</td>\n",
       "      <td>1059.000000</td>\n",
       "    </tr>\n",
       "    <tr>\n",
       "      <th>mean</th>\n",
       "      <td>6.630123</td>\n",
       "      <td>44.226629</td>\n",
       "      <td>0.546742</td>\n",
       "      <td>0.432483</td>\n",
       "      <td>0.671388</td>\n",
       "      <td>0.491029</td>\n",
       "      <td>251.840415</td>\n",
       "    </tr>\n",
       "    <tr>\n",
       "      <th>std</th>\n",
       "      <td>1.399679</td>\n",
       "      <td>10.098364</td>\n",
       "      <td>0.498046</td>\n",
       "      <td>0.495655</td>\n",
       "      <td>0.469930</td>\n",
       "      <td>0.500156</td>\n",
       "      <td>4.307424</td>\n",
       "    </tr>\n",
       "    <tr>\n",
       "      <th>min</th>\n",
       "      <td>3.000000</td>\n",
       "      <td>34.000000</td>\n",
       "      <td>0.000000</td>\n",
       "      <td>0.000000</td>\n",
       "      <td>0.000000</td>\n",
       "      <td>0.000000</td>\n",
       "      <td>240.000000</td>\n",
       "    </tr>\n",
       "    <tr>\n",
       "      <th>25%</th>\n",
       "      <td>6.500000</td>\n",
       "      <td>38.000000</td>\n",
       "      <td>0.000000</td>\n",
       "      <td>0.000000</td>\n",
       "      <td>0.000000</td>\n",
       "      <td>0.000000</td>\n",
       "      <td>250.000000</td>\n",
       "    </tr>\n",
       "    <tr>\n",
       "      <th>50%</th>\n",
       "      <td>6.700000</td>\n",
       "      <td>41.000000</td>\n",
       "      <td>1.000000</td>\n",
       "      <td>0.000000</td>\n",
       "      <td>1.000000</td>\n",
       "      <td>0.000000</td>\n",
       "      <td>255.000000</td>\n",
       "    </tr>\n",
       "    <tr>\n",
       "      <th>75%</th>\n",
       "      <td>6.800000</td>\n",
       "      <td>45.000000</td>\n",
       "      <td>1.000000</td>\n",
       "      <td>1.000000</td>\n",
       "      <td>1.000000</td>\n",
       "      <td>1.000000</td>\n",
       "      <td>255.000000</td>\n",
       "    </tr>\n",
       "    <tr>\n",
       "      <th>max</th>\n",
       "      <td>9.500000</td>\n",
       "      <td>90.000000</td>\n",
       "      <td>1.000000</td>\n",
       "      <td>1.000000</td>\n",
       "      <td>1.000000</td>\n",
       "      <td>1.000000</td>\n",
       "      <td>255.000000</td>\n",
       "    </tr>\n",
       "  </tbody>\n",
       "</table>\n",
       "</div>"
      ],
      "text/plain": [
       "                pH   Temprature        Taste         Odor         Fat   \\\n",
       "count  1059.000000  1059.000000  1059.000000  1059.000000  1059.000000   \n",
       "mean      6.630123    44.226629     0.546742     0.432483     0.671388   \n",
       "std       1.399679    10.098364     0.498046     0.495655     0.469930   \n",
       "min       3.000000    34.000000     0.000000     0.000000     0.000000   \n",
       "25%       6.500000    38.000000     0.000000     0.000000     0.000000   \n",
       "50%       6.700000    41.000000     1.000000     0.000000     1.000000   \n",
       "75%       6.800000    45.000000     1.000000     1.000000     1.000000   \n",
       "max       9.500000    90.000000     1.000000     1.000000     1.000000   \n",
       "\n",
       "         Turbidity       Colour  \n",
       "count  1059.000000  1059.000000  \n",
       "mean      0.491029   251.840415  \n",
       "std       0.500156     4.307424  \n",
       "min       0.000000   240.000000  \n",
       "25%       0.000000   250.000000  \n",
       "50%       0.000000   255.000000  \n",
       "75%       1.000000   255.000000  \n",
       "max       1.000000   255.000000  "
      ]
     },
     "execution_count": 9,
     "metadata": {},
     "output_type": "execute_result"
    }
   ],
   "source": [
    "df.describe()"
   ]
  },
  {
   "cell_type": "code",
   "execution_count": 10,
   "id": "23693ddb",
   "metadata": {},
   "outputs": [
    {
     "data": {
      "text/plain": [
       "Text(0.5, 1.0, 'Grade v/s colour')"
      ]
     },
     "execution_count": 10,
     "metadata": {},
     "output_type": "execute_result"
    },
    {
     "data": {
      "image/png": "[encoded data removed]",
      "text/plain": [
       "<Figure size 864x432 with 1 Axes>"
      ]
     },
     "metadata": {
      "needs_background": "light"
     },
     "output_type": "display_data"
    }
   ],
   "source": [
    "plt.figure(figsize = (12, 6))\n",
    "ax = sns.boxplot(x='Grade', y='Colour', data=df)\n",
    "plt.setp(ax.artists, alpha=.5, linewidth=2, edgecolor=\"k\")\n",
    "plt.xticks(rotation=45)\n",
    "plt.title('Grade v/s colour')"
   ]
  },
  {
   "cell_type": "code",
   "execution_count": 11,
   "id": "09d83f7a",
   "metadata": {},
   "outputs": [],
   "source": [
    "# now let us check outliers in given dataset\n",
    "#An Outlier is a data-item/object that deviates significantly from the rest of the (so-called normal)objects."
   ]
  },
  {
   "cell_type": "code",
   "execution_count": 12,
   "id": "a53883e5",
   "metadata": {},
   "outputs": [
    {
     "data": {
      "text/plain": [
       "Text(0.5, 1.0, 'outliers graph')"
      ]
     },
     "execution_count": 12,
     "metadata": {},
     "output_type": "execute_result"
    },
    {
     "data": {
      "image/png": "[encoded data removed]",
      "text/plain": [
       "<Figure size 864x432 with 1 Axes>"
      ]
     },
     "metadata": {
      "needs_background": "light"
     },
     "output_type": "display_data"
    }
   ],
   "source": [
    "plt.figure(figsize = (12, 6))\n",
    "sns.boxplot(data=df[:100])\n",
    "plt.title('outliers graph')"
   ]
  },
  {
   "cell_type": "code",
   "execution_count": 13,
   "id": "fa0f03be",
   "metadata": {},
   "outputs": [],
   "source": [
    "# from this boxplot we can clearly see that values below 100 hav esome outliers at temperature "
   ]
  },
  {
   "cell_type": "code",
   "execution_count": 14,
   "id": "883917cb",
   "metadata": {},
   "outputs": [
    {
     "data": {
      "text/plain": [
       "Text(0.5, 1.0, 'Grade v/s Turbidity')"
      ]
     },
     "execution_count": 14,
     "metadata": {},
     "output_type": "execute_result"
    },
    {
     "data": {
      "image/png": "[encoded data removed]",
      "text/plain": [
       "<Figure size 864x432 with 1 Axes>"
      ]
     },
     "metadata": {
      "needs_background": "light"
     },
     "output_type": "display_data"
    }
   ],
   "source": [
    "plt.figure(figsize = (12, 6))\n",
    "ax = sns.boxplot(x='Grade', y='Turbidity', data=df)\n",
    "plt.xticks(rotation=45)\n",
    "plt.title('Grade v/s Turbidity')"
   ]
  },
  {
   "cell_type": "code",
   "execution_count": 15,
   "id": "e7294324",
   "metadata": {},
   "outputs": [
    {
     "data": {
      "text/plain": [
       "Text(0.5, 1.0, 'Grade v/s Fat ')"
      ]
     },
     "execution_count": 15,
     "metadata": {},
     "output_type": "execute_result"
    },
    {
     "data": {
      "image/png": "[encoded data removed]",
      "text/plain": [
       "<Figure size 864x432 with 1 Axes>"
      ]
     },
     "metadata": {
      "needs_background": "light"
     },
     "output_type": "display_data"
    }
   ],
   "source": [
    "plt.figure(figsize = (12, 6))\n",
    "ax = sns.boxplot(x='Grade', y='Fat ', data=df)\n",
    "plt.setp(ax.artists, alpha=.5, linewidth=2, edgecolor=\"k\")\n",
    "plt.xticks(rotation=45)\n",
    "plt.title('Grade v/s Fat ')"
   ]
  },
  {
   "cell_type": "code",
   "execution_count": 16,
   "id": "59d4a7a1",
   "metadata": {},
   "outputs": [
    {
     "data": {
      "text/plain": [
       "Text(0.5, 1.0, 'Grade v/s Odor')"
      ]
     },
     "execution_count": 16,
     "metadata": {},
     "output_type": "execute_result"
    },
    {
     "data": {
      "image/png": "[encoded data removed]",
      "text/plain": [
       "<Figure size 864x432 with 1 Axes>"
      ]
     },
     "metadata": {
      "needs_background": "light"
     },
     "output_type": "display_data"
    }
   ],
   "source": [
    "plt.figure(figsize = (12, 6))\n",
    "ax = sns.boxplot(x='Grade', y='Odor', data=df)\n",
    "plt.setp(ax.artists, alpha=.5, linewidth=2, edgecolor=\"k\")\n",
    "plt.xticks(rotation=45)\n",
    "plt.title('Grade v/s Odor')"
   ]
  },
  {
   "cell_type": "code",
   "execution_count": 17,
   "id": "8afa03f1",
   "metadata": {},
   "outputs": [
    {
     "data": {
      "text/plain": [
       "Text(0.5, 1.0, 'Grade v/s pH')"
      ]
     },
     "execution_count": 17,
     "metadata": {},
     "output_type": "execute_result"
    },
    {
     "data": {
      "image/png": "[encoded data removed]",
      "text/plain": [
       "<Figure size 864x432 with 1 Axes>"
      ]
     },
     "metadata": {
      "needs_background": "light"
     },
     "output_type": "display_data"
    }
   ],
   "source": [
    "plt.figure(figsize = (12, 6))\n",
    "ax = sns.boxplot(x='Grade', y='pH', data=df)\n",
    "plt.setp(ax.artists, alpha=.5, linewidth=2, edgecolor=\"k\")\n",
    "plt.xticks(rotation=45)\n",
    "plt.title('Grade v/s pH')"
   ]
  },
  {
   "cell_type": "code",
   "execution_count": 18,
   "id": "32758825",
   "metadata": {},
   "outputs": [
    {
     "data": {
      "text/plain": [
       "<seaborn.axisgrid.PairGrid at 0x17799c7ca30>"
      ]
     },
     "execution_count": 18,
     "metadata": {},
     "output_type": "execute_result"
    },
    {
     "data": {
      "image/png": "[encoded data removed]",
      "text/plain": [
       "<Figure size 2520x2520 with 56 Axes>"
      ]
     },
     "metadata": {
      "needs_background": "light"
     },
     "output_type": "display_data"
    }
   ],
   "source": [
    "sns.pairplot(df,height=5)"
   ]
  },
  {
   "cell_type": "markdown",
   "id": "ab56a10a",
   "metadata": {},
   "source": [
    "in the above pairplot typically displays scatter plots between all possible pairs of variables in dataset. the digonal of \n",
    "the pairplot usually shows the distribution of each variable. the scatter plot on lower tringle of the pairplot show the\n",
    "relationship between two varible while the upper triangle shows the same realtionship but with the axes reversed."
   ]
  },
  {
   "cell_type": "code",
   "execution_count": 62,
   "id": "1357b292",
   "metadata": {},
   "outputs": [],
   "source": [
    "from sklearn import preprocessing\n",
    "from sklearn.preprocessing import LabelEncoder"
   ]
  },
  {
   "cell_type": "code",
   "execution_count": 70,
   "id": "8dd19244",
   "metadata": {},
   "outputs": [],
   "source": [
    "#initialize label encoder object\n",
    "le=LabelEncoder()"
   ]
  },
  {
   "cell_type": "code",
   "execution_count": 69,
   "id": "b3d036fe",
   "metadata": {},
   "outputs": [
    {
     "data": {
      "text/plain": [
       "array(['high', 'low', 'medium'], dtype=object)"
      ]
     },
     "execution_count": 69,
     "metadata": {},
     "output_type": "execute_result"
    }
   ],
   "source": [
    "df[\"Grade\"].unique()"
   ]
  },
  {
   "cell_type": "code",
   "execution_count": 73,
   "id": "db448d01",
   "metadata": {},
   "outputs": [],
   "source": [
    "labels=df['Grade']"
   ]
  },
  {
   "cell_type": "code",
   "execution_count": 76,
   "id": "6524792d",
   "metadata": {},
   "outputs": [
    {
     "data": {
      "text/plain": [
       "LabelEncoder()"
      ]
     },
     "execution_count": 76,
     "metadata": {},
     "output_type": "execute_result"
    }
   ],
   "source": [
    "#call the fit method to learn the mapping between the labels and their encoded representations\n",
    "le.fit(labels)"
   ]
  },
  {
   "cell_type": "code",
   "execution_count": 88,
   "id": "2ee8c062",
   "metadata": {},
   "outputs": [],
   "source": [
    "encoded_labels=le.transform(['high', 'low', 'medium'])\n"
   ]
  },
  {
   "cell_type": "code",
   "execution_count": 90,
   "id": "90b0600c",
   "metadata": {},
   "outputs": [
    {
     "name": "stdout",
     "output_type": "stream",
     "text": [
      "[0 1 2]\n",
      "['high' 'low' 'medium']\n"
     ]
    }
   ],
   "source": [
    "# call inverse_transform method to decode encoded labels\n",
    "decoded_labels=le.inverse_transform(encoded_labels)\n",
    "print(encoded_labels)\n",
    "print(decoded_labels)"
   ]
  },
  {
   "cell_type": "markdown",
   "id": "30d44bb3",
   "metadata": {},
   "source": [
    "if we have catagorical variable for ex- large, small then we cannot directly provide it to machine \n",
    "it wont be able to understand so ml algoritm involves lots of mathematical calculation so in this case we will use label encoder because we have order fetures in traget variable \n",
    "Grade like high low and mediam"
   ]
  },
  {
   "cell_type": "markdown",
   "id": "4b786066",
   "metadata": {},
   "source": [
    "after converting into label encodings you can identiy the unique values by using the inverse_transform() method of the LabelEncoder class in Python. this method will convert the encoded labels back into their original values. You can then use the unique() function to get an array of the unique values."
   ]
  },
  {
   "cell_type": "code",
   "execution_count": 23,
   "id": "0a4985a9",
   "metadata": {},
   "outputs": [
    {
     "data": {
      "text/plain": [
       "<AxesSubplot:>"
      ]
     },
     "execution_count": 23,
     "metadata": {},
     "output_type": "execute_result"
    },
    {
     "data": {
      "image/png": "[encoded data removed]",
      "text/plain": [
       "<Figure size 864x576 with 2 Axes>"
      ]
     },
     "metadata": {
      "needs_background": "light"
     },
     "output_type": "display_data"
    }
   ],
   "source": [
    "corr=df.corr()\n",
    "plt.figure(figsize=(12,8))\n",
    "sns.heatmap(corr,vmax=1.0, vmin=-1.0, cmap='viridis', annot=True)"
   ]
  },
  {
   "cell_type": "markdown",
   "id": "0dd59629",
   "metadata": {},
   "source": [
    "as we can anlyse max value is 1 and min value is -1 so which parameter is contributing and affecting the grade of the milk \n",
    "higher the value of the fat contents leads to lower the grade value of the milk colurs represents the intensity of the data.\n",
    "if the ph values increases then basic property of the milk and if the ph value is decreases the more acidic property of the milk will increases."
   ]
  },
  {
   "cell_type": "code",
   "execution_count": 24,
   "id": "e2a0e139",
   "metadata": {},
   "outputs": [],
   "source": [
    "X = df[['pH', 'Temprature', 'Taste', 'Odor', 'Fat ', 'Turbidity', 'Colour']]\n",
    "y = df[['Grade']]"
   ]
  },
  {
   "cell_type": "code",
   "execution_count": 25,
   "id": "46dd260d",
   "metadata": {},
   "outputs": [],
   "source": [
    "# standardization of data\n",
    "from sklearn.preprocessing import StandardScaler"
   ]
  },
  {
   "cell_type": "code",
   "execution_count": 26,
   "id": "9fc8b2b0",
   "metadata": {},
   "outputs": [],
   "source": [
    "scaler=StandardScaler()"
   ]
  },
  {
   "cell_type": "code",
   "execution_count": 27,
   "id": "593850bc",
   "metadata": {},
   "outputs": [],
   "source": [
    "scaler_fit=scaler.fit(X)"
   ]
  },
  {
   "cell_type": "code",
   "execution_count": 28,
   "id": "4dc3a942",
   "metadata": {},
   "outputs": [],
   "source": [
    "# generate the standardize value of x and y\n",
    "X=scaler_fit.transform(X)"
   ]
  },
  {
   "cell_type": "markdown",
   "id": "18f7913d",
   "metadata": {},
   "source": [
    "in order to avoid overfitting we were actually doing train test split"
   ]
  },
  {
   "cell_type": "code",
   "execution_count": 29,
   "id": "1f7daab0",
   "metadata": {},
   "outputs": [],
   "source": [
    "# split the data into training and testing set\n",
    "from sklearn.model_selection import train_test_split\n",
    "X_train, X_test,y_train,y_test=train_test_split(X, y, test_size=0.3, random_state=42)"
   ]
  },
  {
   "cell_type": "code",
   "execution_count": 30,
   "id": "92379e47",
   "metadata": {},
   "outputs": [
    {
     "data": {
      "text/plain": [
       "(741, 7)"
      ]
     },
     "execution_count": 30,
     "metadata": {},
     "output_type": "execute_result"
    }
   ],
   "source": [
    "X_train.shape"
   ]
  },
  {
   "cell_type": "code",
   "execution_count": 31,
   "id": "9d7f68c9",
   "metadata": {},
   "outputs": [
    {
     "data": {
      "text/plain": [
       "(318, 7)"
      ]
     },
     "execution_count": 31,
     "metadata": {},
     "output_type": "execute_result"
    }
   ],
   "source": [
    "X_test.shape"
   ]
  },
  {
   "cell_type": "code",
   "execution_count": 32,
   "id": "f42bc025",
   "metadata": {},
   "outputs": [
    {
     "data": {
      "text/plain": [
       "(741, 1)"
      ]
     },
     "execution_count": 32,
     "metadata": {},
     "output_type": "execute_result"
    }
   ],
   "source": [
    "y_train.shape"
   ]
  },
  {
   "cell_type": "code",
   "execution_count": 33,
   "id": "6893b66f",
   "metadata": {},
   "outputs": [
    {
     "data": {
      "text/plain": [
       "(318, 1)"
      ]
     },
     "execution_count": 33,
     "metadata": {},
     "output_type": "execute_result"
    }
   ],
   "source": [
    "y_test.shape"
   ]
  },
  {
   "cell_type": "markdown",
   "id": "e07e02ba",
   "metadata": {},
   "source": [
    "# model building"
   ]
  },
  {
   "cell_type": "markdown",
   "id": "e61c99c9",
   "metadata": {},
   "source": [
    "# decision tree classifier"
   ]
  },
  {
   "cell_type": "markdown",
   "id": "a5ed9ecb",
   "metadata": {},
   "source": [
    "here we use first model i.e DTC for lebel data it is tree like model that makes decision by splitting the data into smaller\n",
    "subsets based on the value of the input features.at each node of the tree decision is made based on the value of the input \n",
    "features, and the data is split into two or more subsets , this process continue recursively until the stopping criterian is met.\n"
   ]
  },
  {
   "cell_type": "code",
   "execution_count": 34,
   "id": "fb80fcd6",
   "metadata": {},
   "outputs": [],
   "source": [
    "from sklearn.tree import DecisionTreeClassifier\n",
    "from sklearn.metrics import confusion_matrix\n",
    "dt_classifier=DecisionTreeClassifier(max_depth = 3)\n",
    "dt_classifier.fit(X_train, y_train)\n",
    "dt_predict=dt_classifier.predict(X_test)\n"
   ]
  },
  {
   "cell_type": "markdown",
   "id": "b59efb75",
   "metadata": {},
   "source": [
    "# creating confusion matrix"
   ]
  },
  {
   "cell_type": "code",
   "execution_count": 93,
   "id": "d837cc99",
   "metadata": {},
   "outputs": [],
   "source": [
    "cm=confusion_matrix(y_test, dt_predict)"
   ]
  },
  {
   "cell_type": "code",
   "execution_count": 94,
   "id": "a1c8629a",
   "metadata": {},
   "outputs": [
    {
     "name": "stdout",
     "output_type": "stream",
     "text": [
      "100.0 %\n"
     ]
    }
   ],
   "source": [
    "accuracy=dt_classifier.score(X_test,dt_predict)\n",
    "print(accuracy*100,'%')"
   ]
  },
  {
   "cell_type": "code",
   "execution_count": 95,
   "id": "fdb22e5f",
   "metadata": {},
   "outputs": [
    {
     "name": "stdout",
     "output_type": "stream",
     "text": [
      "[[  0   0  76]\n",
      " [  0 113   2]\n",
      " [  0   0 127]]\n",
      "\n",
      "classification report\n",
      "               precision    recall  f1-score   support\n",
      "\n",
      "           0       0.00      0.00      0.00        76\n",
      "           1       1.00      0.98      0.99       115\n",
      "           2       0.62      1.00      0.77       127\n",
      "\n",
      "    accuracy                           0.75       318\n",
      "   macro avg       0.54      0.66      0.59       318\n",
      "weighted avg       0.61      0.75      0.66       318\n",
      "\n"
     ]
    }
   ],
   "source": [
    "print(cm)\n",
    "print()\n",
    "print(\"classification report\\n\",classification_report(y_test,dt_predict))"
   ]
  },
  {
   "cell_type": "markdown",
   "id": "dad13027",
   "metadata": {},
   "source": [
    "heare we get accuracy 100% that means our model is overfitted due to outliers algorithm more robust to outliers and noice \n",
    "practically it is not good thats why we try some other algoritm.The decision tree algorithm works by selecting the feature that provides the most information gain, or reduction in impurity, at each node. Information gain is typically measured by entropy or Gini impurity, which are measures of the degree of randomness or uncertainty in the class distribution at a given node. The algorithm stops when all the observations in a node belong to the same class, or when some other stopping criterion is met, such as a maximum depth or a minimum number of observations per node."
   ]
  },
  {
   "cell_type": "markdown",
   "id": "62950fd7",
   "metadata": {},
   "source": [
    "# SVM (Support vector machine) classifier"
   ]
  },
  {
   "cell_type": "code",
   "execution_count": 38,
   "id": "b4c00164",
   "metadata": {},
   "outputs": [],
   "source": [
    "# training linear SVM classifier"
   ]
  },
  {
   "cell_type": "code",
   "execution_count": 39,
   "id": "58010baf",
   "metadata": {},
   "outputs": [],
   "source": [
    "from sklearn.svm import SVC"
   ]
  },
  {
   "cell_type": "code",
   "execution_count": 40,
   "id": "fe2117b0",
   "metadata": {},
   "outputs": [
    {
     "data": {
      "text/plain": [
       "SVC(C=1, kernel='linear')"
      ]
     },
     "execution_count": 40,
     "metadata": {},
     "output_type": "execute_result"
    }
   ],
   "source": [
    "model=SVC(kernel = 'linear', C = 1)\n",
    "model.fit(X_train, y_train)"
   ]
  },
  {
   "cell_type": "code",
   "execution_count": 41,
   "id": "f98d8941",
   "metadata": {},
   "outputs": [],
   "source": [
    "svm_pred=model.predict(X_test)"
   ]
  },
  {
   "cell_type": "code",
   "execution_count": 42,
   "id": "2c169a7f",
   "metadata": {},
   "outputs": [
    {
     "name": "stdout",
     "output_type": "stream",
     "text": [
      "[1 1 1 1 2 1 1 0 0 0 1 2 0 2 1 1 0 2 2 2 0 2 0 2 2 0 2 0 1 1 2 2 0 0 0 2 2\n",
      " 0 2 2 1 1 0 0 0 0 0 0 2 0 2 1 0 2 2 1 0 1 1 2 2 1 1 0 0 0 2 1 1 2 1 1 0 2\n",
      " 1 1 1 2 1 1 2 2 0 0 2 2 0 1 2 0 1 1 0 0 1 1 0 2 0 0 1 1 1 1 2 2 1 1 2 0 0\n",
      " 2 2 1 0 0 2 1 0 0 2 1 1 1 2 0 2 2 0 2 1 2 1 2 1 1 2 1 2 2 2 0 1 2 1 1 2 1\n",
      " 1 2 2 2 0 1 2 0 1 0 1 0 2 2 2 1 2 0 1 1 2 1 0 0 1 1 0 1 2 2 2 2 1 2 0 1 0\n",
      " 1 2 0 2 1 1 2 0 1 0 1 1 1 2 2 0 2 0 0 2 1 2 0 2 2 0 0 2 2 0 1 1 0 2 1 2 2\n",
      " 0 0 1 0 1 0 2 0 0 1 2 0 0 1 2 1 2 1 1 0 0 1 1 0 1 2 1 1 0 0 2 0 2 2 1 2 1\n",
      " 0 1 0 0 0 2 1 0 0 2 0 2 2 1 0 2 1 1 1 2 0 2 0 1 0 1 1 1 2 0 2 1 1 2 0 2 1\n",
      " 0 0 2 1 2 0 0 2 1 1 1 0 2 2 2 0 2 2 2 1 2 0]\n"
     ]
    }
   ],
   "source": [
    "print(svm_pred)"
   ]
  },
  {
   "cell_type": "code",
   "execution_count": 43,
   "id": "4f1721db",
   "metadata": {},
   "outputs": [
    {
     "name": "stdout",
     "output_type": "stream",
     "text": [
      "85.84905660377359 %\n"
     ]
    }
   ],
   "source": [
    "# model accuracy for X_test  \n",
    "accuracy = model.score(X_test, y_test)\n",
    "print(accuracy*100,'%')"
   ]
  },
  {
   "cell_type": "code",
   "execution_count": 44,
   "id": "fcb8b4e6",
   "metadata": {},
   "outputs": [],
   "source": [
    "# creating confusion matrix"
   ]
  },
  {
   "cell_type": "code",
   "execution_count": 45,
   "id": "38fb6597",
   "metadata": {},
   "outputs": [
    {
     "name": "stdout",
     "output_type": "stream",
     "text": [
      "[[ 70   3   3]\n",
      " [ 15  98   2]\n",
      " [ 14   8 105]]\n",
      "\n",
      "clssification report\n",
      "\n",
      "              precision    recall  f1-score   support\n",
      "\n",
      "           0       0.71      0.92      0.80        76\n",
      "           1       0.90      0.85      0.88       115\n",
      "           2       0.95      0.83      0.89       127\n",
      "\n",
      "    accuracy                           0.86       318\n",
      "   macro avg       0.85      0.87      0.85       318\n",
      "weighted avg       0.88      0.86      0.86       318\n",
      "\n"
     ]
    }
   ],
   "source": [
    "cm=confusion_matrix(y_test,svm_pred)\n",
    "print(cm)\n",
    "print()\n",
    "print(\"clssification report\\n\")\n",
    "print( classification_report(y_test,svm_pred))"
   ]
  },
  {
   "cell_type": "markdown",
   "id": "cfbf2795",
   "metadata": {},
   "source": [
    "# KNN (k-nearest neighbors) classifier"
   ]
  },
  {
   "cell_type": "code",
   "execution_count": 46,
   "id": "5c869c8b",
   "metadata": {},
   "outputs": [],
   "source": [
    "# training a knn classifier"
   ]
  },
  {
   "cell_type": "code",
   "execution_count": 47,
   "id": "b06f0440",
   "metadata": {},
   "outputs": [],
   "source": [
    "from sklearn.neighbors import KNeighborsClassifier\n"
   ]
  },
  {
   "cell_type": "code",
   "execution_count": 48,
   "id": "bae16287",
   "metadata": {},
   "outputs": [
    {
     "data": {
      "text/plain": [
       "KNeighborsClassifier(n_neighbors=42)"
      ]
     },
     "execution_count": 48,
     "metadata": {},
     "output_type": "execute_result"
    }
   ],
   "source": [
    "# knn=KNeighbhorsClassifier(n_neighbors=42)\n",
    "knn = KNeighborsClassifier(n_neighbors = 42)\n",
    "knn.fit(X_train,y_train)"
   ]
  },
  {
   "cell_type": "code",
   "execution_count": 49,
   "id": "820476d6",
   "metadata": {},
   "outputs": [
    {
     "name": "stdout",
     "output_type": "stream",
     "text": [
      "86.79245283018868 %\n"
     ]
    }
   ],
   "source": [
    "# accuracy on x_test\n",
    "accuracy=knn.score(X_test, y_test)\n",
    "print(accuracy*100,'%')"
   ]
  },
  {
   "cell_type": "code",
   "execution_count": 50,
   "id": "b96164f9",
   "metadata": {},
   "outputs": [
    {
     "name": "stdout",
     "output_type": "stream",
     "text": [
      "              precision    recall  f1-score   support\n",
      "\n",
      "           0       0.84      0.74      0.79        86\n",
      "           1       0.86      0.97      0.91       102\n",
      "           2       0.89      0.87      0.88       130\n",
      "\n",
      "    accuracy                           0.87       318\n",
      "   macro avg       0.86      0.86      0.86       318\n",
      "weighted avg       0.87      0.87      0.87       318\n",
      "\n",
      "[[ 64   3   9]\n",
      " [  8  99   8]\n",
      " [ 14   0 113]]\n"
     ]
    }
   ],
   "source": [
    "# creating confusion matrix\n",
    "knn_prediction=knn.predict(X_test)\n",
    "cm=confusion_matrix(y_test, knn_prediction)\n",
    "print(classification_report(knn_prediction,y_test))\n",
    "print(cm)"
   ]
  },
  {
   "cell_type": "markdown",
   "id": "a814838f",
   "metadata": {},
   "source": [
    "# naive bays classifier"
   ]
  },
  {
   "cell_type": "code",
   "execution_count": 51,
   "id": "481c99fc",
   "metadata": {},
   "outputs": [],
   "source": [
    "# training naive bayes classifier\n",
    "\n"
   ]
  },
  {
   "cell_type": "code",
   "execution_count": 52,
   "id": "91b2bc45",
   "metadata": {},
   "outputs": [],
   "source": [
    "from sklearn.naive_bayes import GaussianNB"
   ]
  },
  {
   "cell_type": "code",
   "execution_count": 53,
   "id": "056f340e",
   "metadata": {},
   "outputs": [],
   "source": [
    "gnb = GaussianNB().fit(X_train, y_train)\n",
    "gnb_predictions = gnb.predict(X_test)\n",
    "  "
   ]
  },
  {
   "cell_type": "code",
   "execution_count": 54,
   "id": "8eeb2f3d",
   "metadata": {},
   "outputs": [],
   "source": [
    "# accuracy on x_test"
   ]
  },
  {
   "cell_type": "code",
   "execution_count": 55,
   "id": "f01d3f9f",
   "metadata": {},
   "outputs": [
    {
     "name": "stdout",
     "output_type": "stream",
     "text": [
      "90.25157232704403 %\n",
      "\n",
      "              precision    recall  f1-score   support\n",
      "\n",
      "           0       0.86      0.84      0.85        76\n",
      "           1       0.94      0.94      0.94       115\n",
      "           2       0.89      0.91      0.90       127\n",
      "\n",
      "    accuracy                           0.90       318\n",
      "   macro avg       0.90      0.90      0.90       318\n",
      "weighted avg       0.90      0.90      0.90       318\n",
      "\n"
     ]
    }
   ],
   "source": [
    "accuracy=gnb.score(X_test, y_test)\n",
    "print(accuracy*100,'%')\n",
    "print()\n",
    "print(classification_report(y_test,gnb_predictions))"
   ]
  },
  {
   "cell_type": "code",
   "execution_count": 56,
   "id": "56226578",
   "metadata": {},
   "outputs": [
    {
     "name": "stdout",
     "output_type": "stream",
     "text": [
      "[[ 64   0  12]\n",
      " [  5 108   2]\n",
      " [  5   7 115]]\n"
     ]
    }
   ],
   "source": [
    "cm=confusion_matrix(y_test, gnb_predictions)\n",
    "print(cm)"
   ]
  },
  {
   "cell_type": "markdown",
   "id": "22998a7a",
   "metadata": {},
   "source": []
  },
  {
   "cell_type": "markdown",
   "id": "91319f4a",
   "metadata": {},
   "source": [
    "end"
   ]
  }
 ],
 "metadata": {
  "kernelspec": {
   "display_name": "Python 3 (ipykernel)",
   "language": "python",
   "name": "python3"
  },
  "language_info": {
   "codemirror_mode": {
    "name": "ipython",
    "version": 3
   },
   "file_extension": ".py",
   "mimetype": "text/x-python",
   "name": "python",
   "nbconvert_exporter": "python",
   "pygments_lexer": "ipython3",
   "version": "3.9.12"
  }
 },
 "nbformat": 4,
 "nbformat_minor": 5
}
