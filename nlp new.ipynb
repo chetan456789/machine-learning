{
 "cells": [
  {
   "cell_type": "code",
   "execution_count": 1,
   "id": "07a61601",
   "metadata": {},
   "outputs": [
    {
     "name": "stdout",
     "output_type": "stream",
     "text": [
      "Requirement already satisfied: moviepy in c:\\users\\chetan\\anaconda3\\lib\\site-packages (1.0.3)\n",
      "Requirement already satisfied: tqdm<5.0,>=4.11.2 in c:\\users\\chetan\\anaconda3\\lib\\site-packages (from moviepy) (4.64.0)\n",
      "Requirement already satisfied: numpy>=1.17.3 in c:\\users\\chetan\\anaconda3\\lib\\site-packages (from moviepy) (1.21.5)\n",
      "Requirement already satisfied: decorator<5.0,>=4.0.2 in c:\\users\\chetan\\anaconda3\\lib\\site-packages (from moviepy) (4.4.2)\n",
      "Requirement already satisfied: imageio<3.0,>=2.5 in c:\\users\\chetan\\anaconda3\\lib\\site-packages (from moviepy) (2.9.0)\n",
      "Requirement already satisfied: requests<3.0,>=2.8.1 in c:\\users\\chetan\\anaconda3\\lib\\site-packages (from moviepy) (2.27.1)\n",
      "Requirement already satisfied: proglog<=1.0.0 in c:\\users\\chetan\\anaconda3\\lib\\site-packages (from moviepy) (0.1.10)\n",
      "Requirement already satisfied: imageio-ffmpeg>=0.2.0 in c:\\users\\chetan\\anaconda3\\lib\\site-packages (from moviepy) (0.4.7)\n",
      "Requirement already satisfied: pillow in c:\\users\\chetan\\anaconda3\\lib\\site-packages (from imageio<3.0,>=2.5->moviepy) (9.0.1)\n",
      "Requirement already satisfied: charset-normalizer~=2.0.0 in c:\\users\\chetan\\anaconda3\\lib\\site-packages (from requests<3.0,>=2.8.1->moviepy) (2.0.4)\n",
      "Requirement already satisfied: idna<4,>=2.5 in c:\\users\\chetan\\anaconda3\\lib\\site-packages (from requests<3.0,>=2.8.1->moviepy) (3.3)\n",
      "Requirement already satisfied: certifi>=2017.4.17 in c:\\users\\chetan\\anaconda3\\lib\\site-packages (from requests<3.0,>=2.8.1->moviepy) (2021.10.8)\n",
      "Requirement already satisfied: urllib3<1.27,>=1.21.1 in c:\\users\\chetan\\anaconda3\\lib\\site-packages (from requests<3.0,>=2.8.1->moviepy) (1.26.9)\n",
      "Requirement already satisfied: colorama in c:\\users\\chetan\\anaconda3\\lib\\site-packages (from tqdm<5.0,>=4.11.2->moviepy) (0.4.4)\n"
     ]
    }
   ],
   "source": [
    "!pip install moviepy"
   ]
  },
  {
   "cell_type": "code",
   "execution_count": 2,
   "id": "3bc84a5f",
   "metadata": {},
   "outputs": [
    {
     "name": "stdout",
     "output_type": "stream",
     "text": [
      "MoviePy - Writing audio in D:\\machine learning\\NLP\\ud.wav\n"
     ]
    },
    {
     "name": "stderr",
     "output_type": "stream",
     "text": [
      "                                                                                                                       "
     ]
    },
    {
     "name": "stdout",
     "output_type": "stream",
     "text": [
      "MoviePy - Done.\n"
     ]
    },
    {
     "name": "stderr",
     "output_type": "stream",
     "text": [
      "\r"
     ]
    }
   ],
   "source": [
    "# Python code to convert video to audio \n",
    "import moviepy.editor as mp \n",
    "  \n",
    "# Insert Local Video File Path  \n",
    "clip = mp.VideoFileClip(r\"D:\\machine learning\\NLP\\son.mpg\") \n",
    "  \n",
    "# Insert Local Audio File Path \n",
    "audio_clip = clip.audio.write_audiofile(r\"D:\\machine learning\\NLP\\ud.wav\")\n",
    "\n"
   ]
  },
  {
   "cell_type": "code",
   "execution_count": 3,
   "id": "142cfe01",
   "metadata": {},
   "outputs": [
    {
     "name": "stdout",
     "output_type": "stream",
     "text": [
      "Requirement already satisfied: SpeechRecognition in c:\\users\\chetan\\anaconda3\\lib\\site-packages (3.9.0)\n",
      "Requirement already satisfied: requests>=2.26.0 in c:\\users\\chetan\\anaconda3\\lib\\site-packages (from SpeechRecognition) (2.27.1)\n",
      "Requirement already satisfied: charset-normalizer~=2.0.0 in c:\\users\\chetan\\anaconda3\\lib\\site-packages (from requests>=2.26.0->SpeechRecognition) (2.0.4)\n",
      "Requirement already satisfied: certifi>=2017.4.17 in c:\\users\\chetan\\anaconda3\\lib\\site-packages (from requests>=2.26.0->SpeechRecognition) (2021.10.8)\n",
      "Requirement already satisfied: idna<4,>=2.5 in c:\\users\\chetan\\anaconda3\\lib\\site-packages (from requests>=2.26.0->SpeechRecognition) (3.3)\n",
      "Requirement already satisfied: urllib3<1.27,>=1.21.1 in c:\\users\\chetan\\anaconda3\\lib\\site-packages (from requests>=2.26.0->SpeechRecognition) (1.26.9)\n",
      "Note: you may need to restart the kernel to use updated packages.\n"
     ]
    }
   ],
   "source": [
    "pip install SpeechRecognition"
   ]
  },
  {
   "cell_type": "code",
   "execution_count": null,
   "id": "ce16d72c",
   "metadata": {},
   "outputs": [],
   "source": [
    "import os \n",
    "from pydub import AudioSegment\n",
    "from pydub.silence import split_on_silence\n",
    "import speech_recognition as sr\n",
    "r = sr.Recognizer()"
   ]
  },
  {
   "cell_type": "code",
   "execution_count": null,
   "id": "cc47aaec",
   "metadata": {},
   "outputs": [],
   "source": [
    "def get_large_audio_transcription(path):\n",
    "    \"\"\"\n",
    "    Splitting the large audio file into chunks\n",
    "    and apply speech recognition on each of these chunks\n",
    "    \"\"\"\n",
    "    # open the audio file using pydub\n",
    "    sound = AudioSegment.from_wav(path)  \n",
    "    # split audio sound where silence is 700 miliseconds or more and get chunks\n",
    "    chunks = split_on_silence(sound,\n",
    "        # experiment with this value for your target audio file\n",
    "        min_silence_len = 500,\n",
    "        # adjust this per requirement\n",
    "        silence_thresh = sound.dBFS-14,\n",
    "        # keep the silence for 1 second, adjustable as well\n",
    "        keep_silence=500,\n",
    "    )\n",
    "    folder_name = \"audio-chunks\"\n",
    "    # create a directory to store the audio chunks\n",
    "    if not os.path.isdir(folder_name):\n",
    "        os.mkdir(folder_name)\n",
    "    whole_text = \"\"\n",
    "    # process each chunk \n",
    "    for i, audio_chunk in enumerate(chunks, start=1):\n",
    "        # export audio chunk and save it in\n",
    "        # the `folder_name` directory.\n",
    "        chunk_filename = os.path.join(folder_name, f\"chunk{i}.wav\")\n",
    "        audio_chunk.export(chunk_filename, format=\"wav\")\n",
    "        # recognize the chunk\n",
    "        with sr.AudioFile(chunk_filename) as source:\n",
    "            audio_listened = r.record(source)\n",
    "            # try converting it to text\n",
    "            try:\n",
    "                text = r.recognize_google(audio_listened)\n",
    "            except sr.UnknownValueError as e:\n",
    "                print(\"Error:\", str(e))\n",
    "            else:\n",
    "                text = f\"{text.capitalize()}. \"\n",
    "                print(chunk_filename, \":\", text)\n",
    "                whole_text += text\n",
    "    # return the text for all chunks detected\n",
    "    return whole_text"
   ]
  },
  {
   "cell_type": "code",
   "execution_count": null,
   "id": "9a11e7bd",
   "metadata": {},
   "outputs": [
    {
     "name": "stdout",
     "output_type": "stream",
     "text": [
      "result2:\n",
      "[]\n",
      "Error: \n",
      "result2:\n",
      "[]\n",
      "Error: \n",
      "result2:\n",
      "[]\n",
      "Error: \n",
      "result2:\n",
      "[]\n",
      "Error: \n",
      "result2:\n",
      "{   'alternative': [   {'confidence': 0.23952416, 'transcript': 'chal Diya'},\n",
      "                       {'transcript': 'jaldi aao'},\n",
      "                       {'transcript': 'jaldi aa'},\n",
      "                       {'transcript': 'jaldi'},\n",
      "                       {'transcript': 'chaldia'}],\n",
      "    'final': True}\n",
      "audio-chunks\\chunk5.wav : Chal diya. \n",
      "result2:\n",
      "{   'alternative': [   {   'confidence': 0.90597904,\n",
      "                           'transcript': 'Dil Tere Piche Piche dekhta Main Reh '\n",
      "                                         'Gaya Kuch To Hai Tere Mere Dil Ne '\n",
      "                                         'Kaha Jo Kabhi Kehna Saka Aaj Kehta '\n",
      "                                         'Hoon Pehli Dafa Dil Mein Ho Tum '\n",
      "                                         'Aankhon Mein Tum Pahli Najar Se Hi '\n",
      "                                         'Yara'},\n",
      "                       {   'transcript': 'Dil Tere Piche Piche dekhta Main Reh '\n",
      "                                         'Gaya Kuch To Hai Tere Mere Dil Ne '\n",
      "                                         'Aaj Kahan Jo Kabhi Kehna Saka Aaj '\n",
      "                                         'Kehta Hoon Pehli Dafa Dil Mein Ho '\n",
      "                                         'Tum Aankhon Mein Tum Pahli Najar Se '\n",
      "                                         'Hi Yara'},\n",
      "                       {   'transcript': 'Dil Tere Piche Piche dekhta Main Reh '\n",
      "                                         'Gaya Kuch To Hai Tere Mere Dil Ne '\n",
      "                                         'Kaha Jo Kabhi Kehna Saka Aaj Kehta '\n",
      "                                         'Hoon Pehli Dafa Dil Mein Ho Tum '\n",
      "                                         'Aankhon Mein Tum Pehli Nazar Se Hi '\n",
      "                                         'Yaara'},\n",
      "                       {   'transcript': 'Dil Tere Piche Piche dekhta Main Reh '\n",
      "                                         'Gaya Kuch To Hai Tere Mere Dil Mein '\n",
      "                                         'Aa Jana Kahan Hai Jo Kabhi Kehna '\n",
      "                                         'Saka Aaj Kehta Hoon Pehli Dafa Dil '\n",
      "                                         'Mein Ho Tum Aankhon Mein Tum Pahli '\n",
      "                                         'Najar Se Hi Yara'},\n",
      "                       {   'transcript': 'Dil Tere Piche Piche dekhta Main Reh '\n",
      "                                         'Gaya Kuch To Hai Tere Mere Dil Ne '\n",
      "                                         'Aaj Kahan Jo Kabhi Kehna Saka Aaj '\n",
      "                                         'Kehta Hoon Pehli Dafa Dil Mein Ho '\n",
      "                                         'Tum Aankhon Mein Tum Pehli Nazar Se '\n",
      "                                         'Hi Yaara'}],\n",
      "    'final': True}\n",
      "audio-chunks\\chunk6.wav : Dil tere piche piche dekhta main reh gaya kuch to hai tere mere dil ne kaha jo kabhi kehna saka aaj kehta hoon pehli dafa dil mein ho tum aankhon mein tum pahli najar se hi yara. \n",
      "result2:\n",
      "{   'alternative': [   {   'confidence': 0.9003067,\n",
      "                           'transcript': 'Tum Aankhon Mein Tum Pahli Najar Se '\n",
      "                                         'Hi Yara Mile Ham Dobara Ho Tum '\n",
      "                                         'Aankhon Mein Tum Pahli Najar se hi '\n",
      "                                         'aata Pahli Najar Se Hi'},\n",
      "                       {   'transcript': 'Tum Aankhon Mein Tum Pahli Najar Se '\n",
      "                                         'Hi Yara Mile Ham Dobara Ho Tum '\n",
      "                                         'Aankhon Mein Tum Pahli Najar se hi '\n",
      "                                         'aata Pahli Najar Se Hi Yara'},\n",
      "                       {   'transcript': 'Tum Aankhon Mein Tum Pahli Najar Se '\n",
      "                                         'Hi Yara Mile Ham Dobara Ho Tum '\n",
      "                                         'Aankhon Mein Tum Pahli Najar Se Hi '\n",
      "                                         'Bata Pahli Najar Se Hi'},\n",
      "                       {   'transcript': 'Tum Aankhon Mein Tum Pahli Najar Se '\n",
      "                                         'Hi Yara ki Mile Ham Dobara Ho Tum '\n",
      "                                         'Aankhon Mein Tum Pahli Najar se hi '\n",
      "                                         'aata Pahli Najar Se Hi'},\n",
      "                       {   'transcript': 'Tum Aankhon Mein Tum Pahli Najar Se '\n",
      "                                         'Hi Yara Mile Ham Dobara Ho Tum '\n",
      "                                         'Aankhon Mein Tum Pahli Najar se hi '\n",
      "                                         'aata Pahli Najar Se Hi Hai'}],\n",
      "    'final': True}\n",
      "audio-chunks\\chunk7.wav : Tum aankhon mein tum pahli najar se hi yara mile ham dobara ho tum aankhon mein tum pahli najar se hi aata pahli najar se hi. \n",
      "result2:\n",
      "{   'alternative': [   {   'confidence': 0.7903586,\n",
      "                           'transcript': 'Sarfira Sa Main Musafir na mere ko'},\n",
      "                       {'transcript': 'Sarfira Sa Main Musafir mere ko'},\n",
      "                       {   'transcript': 'Sarfira Sa Main Musafir Tere Naam '\n",
      "                                         'mere ko'},\n",
      "                       {'transcript': 'Sarfira Sa Main Musafir Naam mere ko'},\n",
      "                       {   'transcript': 'Sarfira Sa Main Musafir hai na mere '\n",
      "                                         'ko'}],\n",
      "    'final': True}\n",
      "audio-chunks\\chunk8.wav : Sarfira sa main musafir na mere ko. \n",
      "result2:\n",
      "[]\n",
      "Error: \n"
     ]
    }
   ],
   "source": [
    "text = get_large_audio_transcription(r\"D:\\machine learning\\NLP\\ud.wav\")\n",
    "\n",
    "\n",
    "     "
   ]
  },
  {
   "cell_type": "code",
   "execution_count": null,
   "id": "7d228c71",
   "metadata": {},
   "outputs": [],
   "source": []
  },
  {
   "cell_type": "code",
   "execution_count": null,
   "id": "563fa0f1",
   "metadata": {},
   "outputs": [],
   "source": []
  },
  {
   "cell_type": "code",
   "execution_count": null,
   "id": "99134114",
   "metadata": {},
   "outputs": [],
   "source": []
  }
 ],
 "metadata": {
  "kernelspec": {
   "display_name": "Python 3 (ipykernel)",
   "language": "python",
   "name": "python3"
  },
  "language_info": {
   "codemirror_mode": {
    "name": "ipython",
    "version": 3
   },
   "file_extension": ".py",
   "mimetype": "text/x-python",
   "name": "python",
   "nbconvert_exporter": "python",
   "pygments_lexer": "ipython3",
   "version": "3.9.12"
  }
 },
 "nbformat": 4,
 "nbformat_minor": 5
}
