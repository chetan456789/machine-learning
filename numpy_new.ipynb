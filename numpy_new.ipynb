{
 "cells": [
  {
   "cell_type": "code",
   "execution_count": 104,
   "id": "ebf882fe",
   "metadata": {},
   "outputs": [],
   "source": [
    "import numpy as np"
   ]
  },
  {
   "cell_type": "code",
   "execution_count": 105,
   "id": "bb0eaa0c",
   "metadata": {},
   "outputs": [
    {
     "name": "stdout",
     "output_type": "stream",
     "text": [
      "<class 'numpy.ndarray'>\n"
     ]
    }
   ],
   "source": [
    "an_array=np.array([3,33,45])\n",
    "print(type(an_array))"
   ]
  },
  {
   "cell_type": "code",
   "execution_count": 106,
   "id": "9b06b6c0",
   "metadata": {},
   "outputs": [
    {
     "data": {
      "text/plain": [
       "array([ 3, 33, 45])"
      ]
     },
     "execution_count": 106,
     "metadata": {},
     "output_type": "execute_result"
    }
   ],
   "source": [
    "an_array"
   ]
  },
  {
   "cell_type": "code",
   "execution_count": 107,
   "id": "8d248552",
   "metadata": {},
   "outputs": [
    {
     "name": "stdout",
     "output_type": "stream",
     "text": [
      "<class 'numpy.ndarray'>\n"
     ]
    }
   ],
   "source": [
    "an_array2=np.array([[4,56,6],[23,44,5]])\n",
    "print(type(an_array2))"
   ]
  },
  {
   "cell_type": "code",
   "execution_count": 108,
   "id": "0ff91af6",
   "metadata": {},
   "outputs": [
    {
     "name": "stdout",
     "output_type": "stream",
     "text": [
      "[[ 4 56  6]\n",
      " [23 44  5]]\n"
     ]
    }
   ],
   "source": [
    "print(an_array2)"
   ]
  },
  {
   "cell_type": "code",
   "execution_count": 109,
   "id": "e8eb740c",
   "metadata": {},
   "outputs": [
    {
     "data": {
      "text/plain": [
       "(3,)"
      ]
     },
     "execution_count": 109,
     "metadata": {},
     "output_type": "execute_result"
    }
   ],
   "source": [
    "an_array.shape"
   ]
  },
  {
   "cell_type": "code",
   "execution_count": 110,
   "id": "8be00b32",
   "metadata": {},
   "outputs": [
    {
     "data": {
      "text/plain": [
       "(2, 3)"
      ]
     },
     "execution_count": 110,
     "metadata": {},
     "output_type": "execute_result"
    }
   ],
   "source": [
    "an_array2.shape"
   ]
  },
  {
   "cell_type": "code",
   "execution_count": 111,
   "id": "3fc5bd6b",
   "metadata": {},
   "outputs": [
    {
     "name": "stdout",
     "output_type": "stream",
     "text": [
      "3 33 45\n"
     ]
    }
   ],
   "source": [
    "#access 1D array by using index \n",
    "print(an_array[0],an_array[1],an_array[2])"
   ]
  },
  {
   "cell_type": "code",
   "execution_count": 112,
   "id": "b66966e2",
   "metadata": {},
   "outputs": [],
   "source": [
    "an_array[0]='888'\n"
   ]
  },
  {
   "cell_type": "code",
   "execution_count": 113,
   "id": "6e45883d",
   "metadata": {},
   "outputs": [
    {
     "data": {
      "text/plain": [
       "array([888,  33,  45])"
      ]
     },
     "execution_count": 113,
     "metadata": {},
     "output_type": "execute_result"
    }
   ],
   "source": [
    "an_array         #ndarry are mutable , here we can change element of the arrray"
   ]
  },
  {
   "cell_type": "markdown",
   "id": "7ef3f82d",
   "metadata": {},
   "source": [
    "# how to create rank 2 array"
   ]
  },
  {
   "cell_type": "markdown",
   "id": "11b12179",
   "metadata": {},
   "source": [
    "A rank 2 ndarray is one with two dimensions. Notice the format below of [ [row] , [row] ]. \n",
    "2 dimensional arrays are great for representing matrices which are often useful in data science."
   ]
  },
  {
   "cell_type": "code",
   "execution_count": 114,
   "id": "477b7629",
   "metadata": {},
   "outputs": [
    {
     "name": "stdout",
     "output_type": "stream",
     "text": [
      "the 2d array \n",
      " [[ 11 235  53]\n",
      " [ 87 576  45]] (2, 3)\n"
     ]
    }
   ],
   "source": [
    "another=np.array([[11,235,53],[87,576,45]])\n",
    "print(\"the 2d array \\n\",another,another.shape)"
   ]
  },
  {
   "cell_type": "code",
   "execution_count": 115,
   "id": "ded638bb",
   "metadata": {},
   "outputs": [
    {
     "name": "stdout",
     "output_type": "stream",
     "text": [
      "Accessing elements [0,0], [0,1], and [1,0] of the ndarray:  11 ,  235 ,  87\n"
     ]
    }
   ],
   "source": [
    "print(\"Accessing elements [0,0], [0,1], and [1,0] of the ndarray: \",another[0, 0], \", \",another[0, 1],\", \", another[1, 0])"
   ]
  },
  {
   "cell_type": "markdown",
   "id": "cf2999d9",
   "metadata": {},
   "source": [
    "# There are many way to create numpy arrays:"
   ]
  },
  {
   "cell_type": "code",
   "execution_count": 116,
   "id": "069591bf",
   "metadata": {},
   "outputs": [
    {
     "name": "stdout",
     "output_type": "stream",
     "text": [
      "[[0. 0.]\n",
      " [0. 0.]]\n"
     ]
    }
   ],
   "source": [
    "ex1=np.zeros((2,2))\n",
    "print(ex1)      # it creates 2*2 array"
   ]
  },
  {
   "cell_type": "code",
   "execution_count": 117,
   "id": "a6f1046f",
   "metadata": {},
   "outputs": [
    {
     "name": "stdout",
     "output_type": "stream",
     "text": [
      "[[9. 9.]\n",
      " [9. 9.]]\n"
     ]
    }
   ],
   "source": [
    "# create a 2x2 array filled with 9.0\n",
    "\n",
    "ex2=np.full((2,2),(9.0))\n",
    "print(ex2)\n"
   ]
  },
  {
   "cell_type": "code",
   "execution_count": 118,
   "id": "913c4863",
   "metadata": {},
   "outputs": [
    {
     "name": "stdout",
     "output_type": "stream",
     "text": [
      "[[1. 0. 0. 0. 0.]\n",
      " [0. 1. 0. 0. 0.]\n",
      " [0. 0. 1. 0. 0.]\n",
      " [0. 0. 0. 1. 0.]\n",
      " [0. 0. 0. 0. 1.]]\n"
     ]
    }
   ],
   "source": [
    "# all digonal elemments are unit rest are 0\n",
    "ex3=np.eye(5,5)\n",
    "print(ex3)"
   ]
  },
  {
   "cell_type": "code",
   "execution_count": 119,
   "id": "cafb5a82",
   "metadata": {},
   "outputs": [
    {
     "name": "stdout",
     "output_type": "stream",
     "text": [
      "[[1. 1.]\n",
      " [1. 1.]]\n"
     ]
    }
   ],
   "source": [
    "#create an array of ones\n",
    "ex4=np.ones((2,2))\n",
    "print(ex4)"
   ]
  },
  {
   "cell_type": "code",
   "execution_count": 120,
   "id": "639c3b36",
   "metadata": {},
   "outputs": [
    {
     "name": "stdout",
     "output_type": "stream",
     "text": [
      "(2, 2)\n",
      "\n",
      "1.0\n"
     ]
    }
   ],
   "source": [
    "# notice that the above ndarray (ex4) is actually rank 2, it is a 2x1 array\n",
    "print(ex4.shape)\n",
    "\n",
    "\n",
    "# which means we need to use two indexes to access an element\n",
    "print()\n",
    "print(ex4[0,0])\n"
   ]
  },
  {
   "cell_type": "code",
   "execution_count": 121,
   "id": "7cc88507",
   "metadata": {},
   "outputs": [
    {
     "name": "stdout",
     "output_type": "stream",
     "text": [
      "[[0.66461359 0.96333091 0.57873128 0.0924857  0.28758028]\n",
      " [0.9277299  0.09929717 0.49690815 0.26318176 0.44371812]\n",
      " [0.7950563  0.96491796 0.11004384 0.2156923  0.01355135]\n",
      " [0.01180938 0.58133984 0.52951318 0.2425228  0.06041461]\n",
      " [0.51056069 0.18802474 0.88352029 0.41871437 0.82900794]]\n"
     ]
    }
   ],
   "source": [
    "# create random array of random flots between 0 and 1\n",
    "\n",
    "ex5=np.random.random((5,5))\n",
    "print(ex5)"
   ]
  },
  {
   "cell_type": "code",
   "execution_count": 122,
   "id": "eec9f7c3",
   "metadata": {},
   "outputs": [
    {
     "name": "stdout",
     "output_type": "stream",
     "text": [
      "[[0.0924857  0.28758028 0.57873128 0.66461359 0.96333091]\n",
      " [0.09929717 0.26318176 0.44371812 0.49690815 0.9277299 ]\n",
      " [0.01355135 0.11004384 0.2156923  0.7950563  0.96491796]\n",
      " [0.01180938 0.06041461 0.2425228  0.52951318 0.58133984]\n",
      " [0.18802474 0.41871437 0.51056069 0.82900794 0.88352029]]\n"
     ]
    }
   ],
   "source": [
    "ex5.sort()\n",
    "print(ex5)"
   ]
  },
  {
   "cell_type": "markdown",
   "id": "7fb06af7",
   "metadata": {},
   "source": [
    "# slice indexing"
   ]
  },
  {
   "cell_type": "code",
   "execution_count": 123,
   "id": "d95d34f7",
   "metadata": {},
   "outputs": [
    {
     "name": "stdout",
     "output_type": "stream",
     "text": [
      "[[11 12 13 14]\n",
      " [21 22 23 24]\n",
      " [31 32 33 34]]\n"
     ]
    }
   ],
   "source": [
    "import numpy as np\n",
    "\n",
    "# Rank 2 array of shape (3, 4)\n",
    "an_array = np.array([[11,12,13,14], [21,22,23,24], [31,32,33,34]])\n",
    "print(an_array)"
   ]
  },
  {
   "cell_type": "markdown",
   "id": "8ee824a5",
   "metadata": {},
   "source": [
    "Use array slicing to get a subarray consisting of the first 2 rows x 2 column"
   ]
  },
  {
   "cell_type": "code",
   "execution_count": 124,
   "id": "6ce6104b",
   "metadata": {},
   "outputs": [
    {
     "name": "stdout",
     "output_type": "stream",
     "text": [
      "[[12 13]\n",
      " [22 23]]\n"
     ]
    }
   ],
   "source": [
    "a_slice = an_array[0:2, 1:3]\n",
    "#select 0 and 1 rows, 1 and 2 column\n",
    "print(a_slice)"
   ]
  },
  {
   "cell_type": "code",
   "execution_count": 125,
   "id": "9457aed6",
   "metadata": {
    "scrolled": false
   },
   "outputs": [
    {
     "name": "stdout",
     "output_type": "stream",
     "text": [
      "Before: 12\n",
      "After: 1000\n",
      "[[  11 1000   13   14]\n",
      " [  21   22   23   24]\n",
      " [  31   32   33   34]]\n"
     ]
    }
   ],
   "source": [
    "\n",
    "print(\"Before:\", an_array[0, 1])   #inspect the element at 0, 1  \n",
    "a_slice[0, 0] = 1000    # a_slice[0, 0] is the same piece of data as an_array[0, 1]\n",
    "print(\"After:\", an_array[0, 1])\n",
    "print(an_array)"
   ]
  },
  {
   "cell_type": "markdown",
   "id": "9fff091e",
   "metadata": {},
   "source": [
    "\n",
    "# Use both integer indexing & slice indexing"
   ]
  },
  {
   "cell_type": "code",
   "execution_count": 126,
   "id": "f53c9607",
   "metadata": {},
   "outputs": [
    {
     "name": "stdout",
     "output_type": "stream",
     "text": [
      "[[11 12 13 14]\n",
      " [21 22 23 24]\n",
      " [31 32 33 34]]\n"
     ]
    }
   ],
   "source": [
    "an_array=np.array([[11,12,13,14],[21,22,23,24],[31,32,33,34]])  # create rank 2 array of shape 3x4\n",
    "print(an_array)\n"
   ]
  },
  {
   "cell_type": "code",
   "execution_count": 127,
   "id": "66f3d147",
   "metadata": {},
   "outputs": [
    {
     "name": "stdout",
     "output_type": "stream",
     "text": [
      "[21 22 23 24] (4,)\n"
     ]
    }
   ],
   "source": [
    "# Using both integer indexing & slicing generates an array of lower rank\n",
    "low_rank=an_array[1,:]\n",
    "print(low_rank,low_rank.shape)"
   ]
  },
  {
   "cell_type": "code",
   "execution_count": 128,
   "id": "6d31d38b",
   "metadata": {},
   "outputs": [
    {
     "name": "stdout",
     "output_type": "stream",
     "text": [
      "[[21 22 23 24]] (1, 4)\n"
     ]
    }
   ],
   "source": [
    "# Slicing alone: generates an array of the same rank as the an_array\n",
    "low_rank2=an_array[1:2,:]\n",
    "print(low_rank2,low_rank2.shape)\n",
    "\n",
    "#notice: [[]]"
   ]
  },
  {
   "cell_type": "code",
   "execution_count": 129,
   "id": "68520964",
   "metadata": {},
   "outputs": [
    {
     "name": "stdout",
     "output_type": "stream",
     "text": [
      "[14 24 34] (3,)\n"
     ]
    }
   ],
   "source": [
    "#We can do the same thing for columns of an array:\n",
    "low_rank3=an_array[:,3]\n",
    "print(low_rank3, low_rank3.shape)"
   ]
  },
  {
   "cell_type": "code",
   "execution_count": 130,
   "id": "dfd0fcbc",
   "metadata": {},
   "outputs": [
    {
     "name": "stdout",
     "output_type": "stream",
     "text": [
      "[14 24 34] (3,)\n",
      "\n",
      "[[14]\n",
      " [24]\n",
      " [34]] (3, 1)\n"
     ]
    }
   ],
   "source": [
    "low_rankcolumn=an_array[:,3]\n",
    "print(low_rankcolumn, low_rankcolumn.shape)\n",
    "\n",
    "print()\n",
    "low_rankcolumn2=an_array[:,3:]\n",
    "print(low_rankcolumn2, low_rankcolumn2.shape)\n"
   ]
  },
  {
   "cell_type": "markdown",
   "id": "0811be9e",
   "metadata": {},
   "source": [
    "# Array Indexing for changing elements:"
   ]
  },
  {
   "cell_type": "code",
   "execution_count": 131,
   "id": "9ea1fb32",
   "metadata": {},
   "outputs": [
    {
     "name": "stdout",
     "output_type": "stream",
     "text": [
      "original array\n",
      "[[11 12 13]\n",
      " [21 22 23]\n",
      " [31 32 33]\n",
      " [41 42 43]]\n"
     ]
    }
   ],
   "source": [
    "# create a new array\n",
    "\n",
    "an_array=np.array([[11,12,13],[21,22,23],[31,32,33],[41,42,43]])\n",
    "print(\"original array\")\n",
    "print(an_array)"
   ]
  },
  {
   "cell_type": "code",
   "execution_count": 132,
   "id": "a244b333",
   "metadata": {},
   "outputs": [
    {
     "name": "stdout",
     "output_type": "stream",
     "text": [
      "\n",
      " col indices picked [0 1 2 0]\n",
      "\n",
      " row indices picked [0 1 2 3]\n"
     ]
    }
   ],
   "source": [
    "# create an array of indices\n",
    "\n",
    "col_indices=np.array([0,1,2,0])\n",
    "print(\"\\n col indices picked\", col_indices)\n",
    "row_indices=np.arange(4)\n",
    "print('\\n row indices picked', row_indices)"
   ]
  },
  {
   "cell_type": "code",
   "execution_count": 133,
   "id": "eacfa56c",
   "metadata": {},
   "outputs": [
    {
     "name": "stdout",
     "output_type": "stream",
     "text": [
      "0 , 0\n",
      "1 , 1\n",
      "2 , 2\n",
      "3 , 0\n"
     ]
    },
    {
     "data": {
      "text/plain": [
       "'for i in row indices:\\n    j in col indices'"
      ]
     },
     "execution_count": 133,
     "metadata": {},
     "output_type": "execute_result"
    }
   ],
   "source": [
    "# now llets pair row indices and col indices\n",
    "for i,j in zip(row_indices,col_indices):\n",
    "    print(i,\",\",j)\n",
    "    \n",
    "'''for i in row indices:\n",
    "    j in col indices'''"
   ]
  },
  {
   "cell_type": "code",
   "execution_count": 134,
   "id": "b7e21505",
   "metadata": {},
   "outputs": [
    {
     "name": "stdout",
     "output_type": "stream",
     "text": [
      "values in an array at this indices [11 22 33 41]\n"
     ]
    }
   ],
   "source": [
    "#select one element from each row\n",
    "\n",
    "print(\"values in an array at this indices\",an_array[row_indices,col_indices])"
   ]
  },
  {
   "cell_type": "code",
   "execution_count": 135,
   "id": "71827f1d",
   "metadata": {},
   "outputs": [],
   "source": [
    "# now change an element from each indices that we selected\n",
    "an_array[row_indices,col_indices]+=1000"
   ]
  },
  {
   "cell_type": "code",
   "execution_count": 136,
   "id": "f75bddaa",
   "metadata": {},
   "outputs": [
    {
     "data": {
      "text/plain": [
       "array([[1011,   12,   13],\n",
       "       [  21, 1022,   23],\n",
       "       [  31,   32, 1033],\n",
       "       [1041,   42,   43]])"
      ]
     },
     "execution_count": 136,
     "metadata": {},
     "output_type": "execute_result"
    }
   ],
   "source": [
    "an_array"
   ]
  },
  {
   "cell_type": "markdown",
   "id": "0180f3ca",
   "metadata": {},
   "source": [
    "\n",
    "\n",
    "\n",
    "# Boolean Indexing\n",
    "\n",
    "\n",
    "\n",
    "\n",
    "\n",
    "\n",
    "\n",
    "\n"
   ]
  },
  {
   "cell_type": "markdown",
   "id": "687a1e73",
   "metadata": {},
   "source": [
    "Arrray indexing for changing element"
   ]
  },
  {
   "cell_type": "markdown",
   "id": "514c688a",
   "metadata": {},
   "source": [
    "create 3x2 array"
   ]
  },
  {
   "cell_type": "code",
   "execution_count": 137,
   "id": "57d0b799",
   "metadata": {},
   "outputs": [
    {
     "name": "stdout",
     "output_type": "stream",
     "text": [
      "[[22 23]\n",
      " [34 53]\n",
      " [34 53]]\n"
     ]
    }
   ],
   "source": [
    "an_array=np.array([[22,23],[34,53],[34,53]])\n",
    "print(an_array)"
   ]
  },
  {
   "cell_type": "code",
   "execution_count": 138,
   "id": "81f2e379",
   "metadata": {},
   "outputs": [
    {
     "name": "stdout",
     "output_type": "stream",
     "text": [
      "[[False False]\n",
      " [ True  True]\n",
      " [ True  True]]\n"
     ]
    }
   ],
   "source": [
    "# create a filter which will be boolean values for whether each element meets this condition\n",
    "\n",
    "filter=(an_array>25)\n",
    "print(filter)"
   ]
  },
  {
   "cell_type": "code",
   "execution_count": 139,
   "id": "fed73edd",
   "metadata": {},
   "outputs": [
    {
     "name": "stdout",
     "output_type": "stream",
     "text": [
      "[34 53 34 53]\n"
     ]
    }
   ],
   "source": [
    "# we can now select just those elements which meet that criteria\n",
    "print(an_array[filter])"
   ]
  },
  {
   "cell_type": "code",
   "execution_count": 140,
   "id": "a1994753",
   "metadata": {},
   "outputs": [
    {
     "data": {
      "text/plain": [
       "array([22, 23, 34, 53, 34, 53])"
      ]
     },
     "execution_count": 140,
     "metadata": {},
     "output_type": "execute_result"
    }
   ],
   "source": [
    "# For short, we could have just used the approach below without the need for the separate filter array.\n",
    "an_array[an_array>15]"
   ]
  },
  {
   "cell_type": "markdown",
   "id": "a54de693",
   "metadata": {},
   "source": [
    "What is particularly useful is that we can actually change elements in the array applying a similar logical filter. Let's add 100 to all the even values."
   ]
  },
  {
   "cell_type": "code",
   "execution_count": 141,
   "id": "d4fcf8d3",
   "metadata": {},
   "outputs": [
    {
     "name": "stdout",
     "output_type": "stream",
     "text": [
      "[[122  23]\n",
      " [134  53]\n",
      " [134  53]]\n"
     ]
    }
   ],
   "source": [
    "an_array[an_array%2==0]+=100\n",
    "print(an_array)"
   ]
  },
  {
   "cell_type": "markdown",
   "id": "6d6124ce",
   "metadata": {},
   "source": [
    "# Datatypes and Array Operations\n",
    "\n"
   ]
  },
  {
   "cell_type": "code",
   "execution_count": 142,
   "id": "a96b9ec4",
   "metadata": {},
   "outputs": [
    {
     "name": "stdout",
     "output_type": "stream",
     "text": [
      "int32\n"
     ]
    }
   ],
   "source": [
    "ex1=np.array([11,12])  # python assingning data type\n",
    "print(ex1.dtype)"
   ]
  },
  {
   "cell_type": "code",
   "execution_count": 143,
   "id": "cb96c07a",
   "metadata": {},
   "outputs": [
    {
     "name": "stdout",
     "output_type": "stream",
     "text": [
      "float64\n"
     ]
    }
   ],
   "source": [
    "ex2=np.array([11.0,11.33,55.4])\n",
    "print(ex2.dtype)"
   ]
  },
  {
   "cell_type": "code",
   "execution_count": 144,
   "id": "ebe830de",
   "metadata": {},
   "outputs": [
    {
     "name": "stdout",
     "output_type": "stream",
     "text": [
      "[11. 21.]\n"
     ]
    }
   ],
   "source": [
    "ex3=np.array([11,21] , dtype=float)    # you can also tell the python datatype\n",
    "print(ex3)"
   ]
  },
  {
   "cell_type": "markdown",
   "id": "15b93470",
   "metadata": {},
   "source": [
    "you can use this to force floats into integers (using floor function)\n"
   ]
  },
  {
   "cell_type": "code",
   "execution_count": 145,
   "id": "92dc61ff",
   "metadata": {},
   "outputs": [
    {
     "name": "stdout",
     "output_type": "stream",
     "text": [
      "int64\n",
      "\n",
      "[11 12]\n"
     ]
    }
   ],
   "source": [
    "ex4 = np.array([11.1,12.7], dtype=np.int64)\n",
    "print(ex4.dtype)\n",
    "print()\n",
    "print(ex4)"
   ]
  },
  {
   "cell_type": "markdown",
   "id": "f0358677",
   "metadata": {},
   "source": [
    "\n",
    "# arithmatic array operation\n"
   ]
  },
  {
   "cell_type": "code",
   "execution_count": 146,
   "id": "de80f568",
   "metadata": {
    "scrolled": false
   },
   "outputs": [
    {
     "name": "stdout",
     "output_type": "stream",
     "text": [
      "[[111 112]\n",
      " [121 122]]\n",
      "\n",
      "[[211.1 212.1]\n",
      " [221.1 222.1]]\n"
     ]
    },
    {
     "name": "stderr",
     "output_type": "stream",
     "text": [
      "C:\\Users\\chetan\\AppData\\Local\\Temp\\ipykernel_9960\\2364180563.py:2: DeprecationWarning: `np.int` is a deprecated alias for the builtin `int`. To silence this warning, use `int` by itself. Doing this will not modify any behavior and is safe. When replacing `np.int`, you may wish to use e.g. `np.int64` or `np.int32` to specify the precision. If you wish to review your current use, check the release note link for additional information.\n",
      "Deprecated in NumPy 1.20; for more details and guidance: https://numpy.org/devdocs/release/1.20.0-notes.html#deprecations\n",
      "  x = np.array([[111,112],[121,122]], dtype=np.int)\n"
     ]
    }
   ],
   "source": [
    "import numpy as np\n",
    "x = np.array([[111,112],[121,122]], dtype=np.int)\n",
    "y = np.array([[211.1,212.1],[221.1,222.1]], dtype=np.float64)\n",
    "\n",
    "print(x)\n",
    "print()\n",
    "print(y)"
   ]
  },
  {
   "cell_type": "code",
   "execution_count": 147,
   "id": "b9f7f4ec",
   "metadata": {},
   "outputs": [
    {
     "name": "stdout",
     "output_type": "stream",
     "text": [
      "[[322.1 324.1]\n",
      " [342.1 344.1]]\n",
      "\n",
      "[[322.1 324.1]\n",
      " [342.1 344.1]]\n"
     ]
    }
   ],
   "source": [
    "#add\n",
    "print(x+y)\n",
    "print()\n",
    "print(np.add(x,y))"
   ]
  },
  {
   "cell_type": "code",
   "execution_count": 148,
   "id": "19cdab18",
   "metadata": {},
   "outputs": [
    {
     "name": "stdout",
     "output_type": "stream",
     "text": [
      "[[23432.1 23755.2]\n",
      " [26753.1 27096.2]]\n",
      "\n",
      "[[23432.1 23755.2]\n",
      " [26753.1 27096.2]]\n"
     ]
    }
   ],
   "source": [
    "# multiply\n",
    "print(x * y)\n",
    "print()\n",
    "print(np.multiply(x, y))"
   ]
  },
  {
   "cell_type": "code",
   "execution_count": 149,
   "id": "99d1c25a",
   "metadata": {},
   "outputs": [
    {
     "name": "stdout",
     "output_type": "stream",
     "text": [
      "[[-100.1 -100.1]\n",
      " [-100.1 -100.1]]\n",
      "\n",
      "[[-100.1 -100.1]\n",
      " [-100.1 -100.1]]\n"
     ]
    }
   ],
   "source": [
    "# substract\n",
    "print(x-y)\n",
    "print()\n",
    "print(np.subtract(x, y))"
   ]
  },
  {
   "cell_type": "code",
   "execution_count": 150,
   "id": "c7adaba7",
   "metadata": {},
   "outputs": [
    {
     "name": "stdout",
     "output_type": "stream",
     "text": [
      "[[0.52581715 0.52805281]\n",
      " [0.54726368 0.54930212]]\n",
      "\n",
      "[[0.52581715 0.52805281]\n",
      " [0.54726368 0.54930212]]\n"
     ]
    }
   ],
   "source": [
    "    #divid\n",
    "print(x/y)\n",
    "print()\n",
    "print(np.divide(x,y))"
   ]
  },
  {
   "cell_type": "code",
   "execution_count": 151,
   "id": "1526e802",
   "metadata": {},
   "outputs": [
    {
     "name": "stdout",
     "output_type": "stream",
     "text": [
      "[[10.53565375 10.58300524]\n",
      " [11.         11.04536102]]\n"
     ]
    }
   ],
   "source": [
    "#squre root\n",
    "print(np.sqrt(x))"
   ]
  },
  {
   "cell_type": "code",
   "execution_count": 152,
   "id": "a63d9f71",
   "metadata": {},
   "outputs": [
    {
     "name": "stdout",
     "output_type": "stream",
     "text": [
      "[[1.60948707e+48 4.37503945e+48]\n",
      " [3.54513118e+52 9.63666567e+52]]\n"
     ]
    }
   ],
   "source": [
    "#exponennt\n",
    "print(np.exp(x))"
   ]
  },
  {
   "cell_type": "markdown",
   "id": "a33eda23",
   "metadata": {},
   "source": [
    "# statastic method sorting and set operations\n",
    "\n"
   ]
  },
  {
   "cell_type": "markdown",
   "id": "53bf9a02",
   "metadata": {},
   "source": [
    "Set operations"
   ]
  },
  {
   "cell_type": "code",
   "execution_count": 153,
   "id": "a6403fd0",
   "metadata": {},
   "outputs": [
    {
     "name": "stdout",
     "output_type": "stream",
     "text": [
      "[[ 5.80393412  3.10471647 -7.04317702 -0.39533532 11.17394718]\n",
      " [-8.4722944  -7.1396758  -3.34617324  9.08279551  9.24342351]]\n"
     ]
    }
   ],
   "source": [
    "#Setup random 2x5 matrix\n",
    "arr = 10 * np.random.randn(2,5) #random.random or random.randn or random.randint\n",
    "print(arr)"
   ]
  },
  {
   "cell_type": "code",
   "execution_count": 154,
   "id": "e3af9142",
   "metadata": {},
   "outputs": [
    {
     "data": {
      "text/plain": [
       "1.2012161005912965"
      ]
     },
     "execution_count": 154,
     "metadata": {},
     "output_type": "execute_result"
    }
   ],
   "source": [
    "arr.mean()  #compute the mean for all element"
   ]
  },
  {
   "cell_type": "code",
   "execution_count": 155,
   "id": "e8f5f350",
   "metadata": {},
   "outputs": [
    {
     "data": {
      "text/plain": [
       "array([ 2.52881709, -0.12638489])"
      ]
     },
     "execution_count": 155,
     "metadata": {},
     "output_type": "execute_result"
    }
   ],
   "source": [
    "arr.mean(axis=1)  # compute the mean by row"
   ]
  },
  {
   "cell_type": "code",
   "execution_count": 156,
   "id": "5dd58b40",
   "metadata": {},
   "outputs": [
    {
     "data": {
      "text/plain": [
       "array([-1.33418014, -2.01747967, -5.19467513,  4.3437301 , 10.20868535])"
      ]
     },
     "execution_count": 156,
     "metadata": {},
     "output_type": "execute_result"
    }
   ],
   "source": [
    "arr.mean(axis=0)    #compute the mean by column"
   ]
  },
  {
   "cell_type": "code",
   "execution_count": 157,
   "id": "46f0a5eb",
   "metadata": {},
   "outputs": [
    {
     "data": {
      "text/plain": [
       "12.012161005912965"
      ]
     },
     "execution_count": 157,
     "metadata": {},
     "output_type": "execute_result"
    }
   ],
   "source": [
    "# sum all the element \n",
    "arr.sum()"
   ]
  },
  {
   "cell_type": "code",
   "execution_count": 158,
   "id": "573518ee",
   "metadata": {},
   "outputs": [
    {
     "name": "stdout",
     "output_type": "stream",
     "text": [
      "[ 3.10471647 -3.34617324]\n"
     ]
    }
   ],
   "source": [
    "#compute the meadian\n",
    "print(np.median(arr,axis=1))"
   ]
  },
  {
   "cell_type": "markdown",
   "id": "a91fef5e",
   "metadata": {},
   "source": [
    "# sorting"
   ]
  },
  {
   "cell_type": "code",
   "execution_count": 159,
   "id": "8a510160",
   "metadata": {},
   "outputs": [
    {
     "name": "stdout",
     "output_type": "stream",
     "text": [
      "[-1.28320692 -1.34634383  0.56413413 -0.61914162 -0.63422293  0.57620491\n",
      " -1.02617972  0.01925567  0.3722971   0.72921856]\n"
     ]
    }
   ],
   "source": [
    "# create a 10 element array\n",
    "unsorted=np.random.randn(10)\n",
    "print(unsorted)"
   ]
  },
  {
   "cell_type": "code",
   "execution_count": 160,
   "id": "7e4f2bfd",
   "metadata": {},
   "outputs": [
    {
     "name": "stdout",
     "output_type": "stream",
     "text": [
      "[-1.34634383 -1.28320692 -1.02617972 -0.63422293 -0.61914162  0.01925567\n",
      "  0.3722971   0.56413413  0.57620491  0.72921856]\n"
     ]
    }
   ],
   "source": [
    "sorted=np.array(unsorted)\n",
    "sorted.sort()\n",
    "print(sorted)"
   ]
  },
  {
   "cell_type": "code",
   "execution_count": 161,
   "id": "40b454d4",
   "metadata": {},
   "outputs": [
    {
     "name": "stdout",
     "output_type": "stream",
     "text": [
      "[-1.34634383 -1.28320692 -1.02617972 -0.63422293 -0.61914162  0.01925567\n",
      "  0.3722971   0.56413413  0.57620491  0.72921856]\n"
     ]
    }
   ],
   "source": [
    "unsorted.sort()\n",
    "print(unsorted)"
   ]
  },
  {
   "cell_type": "code",
   "execution_count": 162,
   "id": "56947a93",
   "metadata": {},
   "outputs": [],
   "source": [
    "# finding unique element"
   ]
  },
  {
   "cell_type": "code",
   "execution_count": 163,
   "id": "35473d3c",
   "metadata": {},
   "outputs": [
    {
     "name": "stdout",
     "output_type": "stream",
     "text": [
      "[  1   2   3   4   5   6  64 234]\n"
     ]
    }
   ],
   "source": [
    "import numpy as np\n",
    "arrn=np.array([1,1,1,2,234,5,6,64,4,3,3,3,5])\n",
    "print(np.unique(arrn))    # it will return unique value"
   ]
  },
  {
   "cell_type": "markdown",
   "id": "17bb75f7",
   "metadata": {},
   "source": [
    "\n",
    "\n",
    "# Set Operations with np.array data type:\n",
    "\n"
   ]
  },
  {
   "cell_type": "code",
   "execution_count": 164,
   "id": "65a4dad6",
   "metadata": {},
   "outputs": [
    {
     "name": "stdout",
     "output_type": "stream",
     "text": [
      "['desk' 'chair' 'bulb'] ['lamp' 'bulb' 'chair']\n"
     ]
    }
   ],
   "source": [
    "s1 = np.array(['desk','chair','bulb'])\n",
    "s2 = np.array(['lamp','bulb','chair'])\n",
    "print(s1, s2)"
   ]
  },
  {
   "cell_type": "code",
   "execution_count": 165,
   "id": "c154dee0",
   "metadata": {},
   "outputs": [
    {
     "name": "stdout",
     "output_type": "stream",
     "text": [
      "['bulb' 'chair']\n"
     ]
    }
   ],
   "source": [
    "print(np.intersect1d(s1,s2))   #commmon values between s1 and s2"
   ]
  },
  {
   "cell_type": "code",
   "execution_count": 166,
   "id": "ce7eaf7f",
   "metadata": {},
   "outputs": [
    {
     "name": "stdout",
     "output_type": "stream",
     "text": [
      "['bulb' 'chair' 'desk' 'lamp']\n"
     ]
    }
   ],
   "source": [
    "print(np.union1d(s1,s2))   # uncommon values of elements"
   ]
  },
  {
   "cell_type": "code",
   "execution_count": 167,
   "id": "b25852df",
   "metadata": {},
   "outputs": [
    {
     "name": "stdout",
     "output_type": "stream",
     "text": [
      "['desk']\n"
     ]
    }
   ],
   "source": [
    "print(np.setdiff1d(s1,s2))  #elements in s1 that are not in s2"
   ]
  },
  {
   "cell_type": "code",
   "execution_count": 168,
   "id": "f8881575",
   "metadata": {},
   "outputs": [
    {
     "name": "stdout",
     "output_type": "stream",
     "text": [
      "[False  True  True]\n"
     ]
    }
   ],
   "source": [
    "print(np.in1d(s1,s2))   #Which element of s1 are in s2"
   ]
  },
  {
   "cell_type": "markdown",
   "id": "cf1dc13c",
   "metadata": {},
   "source": [
    "\n",
    "\n",
    "\n",
    "\n",
    "# Broadcasting:"
   ]
  },
  {
   "cell_type": "code",
   "execution_count": 169,
   "id": "c2bcb7e9",
   "metadata": {},
   "outputs": [
    {
     "name": "stdout",
     "output_type": "stream",
     "text": [
      "[[0. 0. 0.]\n",
      " [0. 0. 0.]\n",
      " [0. 0. 0.]\n",
      " [0. 0. 0.]]\n"
     ]
    }
   ],
   "source": [
    "import numpy as np\n",
    "start=np.zeros((4,3))\n",
    "print(start)"
   ]
  },
  {
   "cell_type": "code",
   "execution_count": 170,
   "id": "e585d4d4",
   "metadata": {},
   "outputs": [],
   "source": [
    "# create rank 1 array with 3 value\n",
    "\n",
    "add_row=np.array(([1,2,4]))"
   ]
  },
  {
   "cell_type": "code",
   "execution_count": 171,
   "id": "c6917af4",
   "metadata": {},
   "outputs": [
    {
     "data": {
      "text/plain": [
       "array([1, 2, 4])"
      ]
     },
     "execution_count": 171,
     "metadata": {},
     "output_type": "execute_result"
    }
   ],
   "source": [
    "add_row"
   ]
  },
  {
   "cell_type": "code",
   "execution_count": 172,
   "id": "9ff6a539",
   "metadata": {},
   "outputs": [
    {
     "name": "stdout",
     "output_type": "stream",
     "text": [
      "[[1. 2. 4.]\n",
      " [1. 2. 4.]\n",
      " [1. 2. 4.]\n",
      " [1. 2. 4.]]\n"
     ]
    }
   ],
   "source": [
    "y=start+add_row\n",
    "print(y)"
   ]
  },
  {
   "cell_type": "code",
   "execution_count": 173,
   "id": "ef906f15",
   "metadata": {},
   "outputs": [
    {
     "name": "stdout",
     "output_type": "stream",
     "text": [
      "[[0 1 2 3]]\n",
      "\n",
      "[[0]\n",
      " [1]\n",
      " [2]\n",
      " [3]]\n"
     ]
    }
   ],
   "source": [
    "# create an ndarray which is 4 x 1 to broadcast across columns\n",
    "add_cols=np.array([[0,1,2,3]])\n",
    "print(add_cols)\n",
    "print()\n",
    "print(add_cols.T)"
   ]
  },
  {
   "cell_type": "code",
   "execution_count": 174,
   "id": "de3698a1",
   "metadata": {},
   "outputs": [
    {
     "name": "stdout",
     "output_type": "stream",
     "text": [
      "[[1. 1. 1.]\n",
      " [1. 1. 1.]\n",
      " [1. 1. 1.]\n",
      " [1. 1. 1.]]\n"
     ]
    }
   ],
   "source": [
    "# this will just broadcast in both dimensions\n",
    "add_scalar = np.array([1])  \n",
    "print(start+add_scalar)"
   ]
  },
  {
   "cell_type": "code",
   "execution_count": 175,
   "id": "85f7b24d",
   "metadata": {},
   "outputs": [
    {
     "name": "stdout",
     "output_type": "stream",
     "text": [
      "[[12 23  4 55]\n",
      " [43  5 55 44]\n",
      " [54 64 32 22]]\n"
     ]
    }
   ],
   "source": [
    "#Create 3x4 array\n",
    "\n",
    "arrA=np.array([[12,23,4,55],[43,5,55,44],[54,64,32,22]])\n",
    "print(arrA)"
   ]
  },
  {
   "cell_type": "code",
   "execution_count": 176,
   "id": "7d852412",
   "metadata": {},
   "outputs": [
    {
     "name": "stdout",
     "output_type": "stream",
     "text": [
      "[0, 1, 0, 2]\n"
     ]
    }
   ],
   "source": [
    "# create 4x1 array\n",
    "arrB = [0,1,0,2]\n",
    "print(arrB)\n",
    "      "
   ]
  },
  {
   "cell_type": "code",
   "execution_count": 177,
   "id": "3f2f2899",
   "metadata": {},
   "outputs": [
    {
     "name": "stdout",
     "output_type": "stream",
     "text": [
      "[[12 24  4 57]\n",
      " [43  6 55 46]\n",
      " [54 65 32 24]]\n"
     ]
    }
   ],
   "source": [
    "# add the two together by broadcasting\n",
    "print(arrA + arrB)\n"
   ]
  },
  {
   "cell_type": "markdown",
   "id": "10aa3314",
   "metadata": {},
   "source": [
    "# sum"
   ]
  },
  {
   "cell_type": "code",
   "execution_count": 178,
   "id": "6d4ed143",
   "metadata": {},
   "outputs": [
    {
     "name": "stdout",
     "output_type": "stream",
     "text": [
      "66\n"
     ]
    }
   ],
   "source": [
    "ex1 = np.array([[11,12],[21,22]])\n",
    "\n",
    "print(np.sum(ex1))      "
   ]
  },
  {
   "cell_type": "code",
   "execution_count": 179,
   "id": "8cd4087f",
   "metadata": {},
   "outputs": [
    {
     "name": "stdout",
     "output_type": "stream",
     "text": [
      "[32 34]\n"
     ]
    }
   ],
   "source": [
    "print(np.sum(ex1, axis=0))  # columnwise sum\n"
   ]
  },
  {
   "cell_type": "code",
   "execution_count": 180,
   "id": "e6a3f5b4",
   "metadata": {},
   "outputs": [
    {
     "name": "stdout",
     "output_type": "stream",
     "text": [
      "[23 43]\n"
     ]
    }
   ],
   "source": [
    "print(np.sum(ex1, axis=1))  # rowwise sum\n"
   ]
  },
  {
   "cell_type": "markdown",
   "id": "0c1aca38",
   "metadata": {},
   "source": [
    "# Element-wise Functions:\n",
    "\n"
   ]
  },
  {
   "cell_type": "markdown",
   "id": "8707cfd0",
   "metadata": {},
   "source": [
    "For example, let's compare two arrays values to get the maximum of each."
   ]
  },
  {
   "cell_type": "code",
   "execution_count": 181,
   "id": "c9328a18",
   "metadata": {},
   "outputs": [
    {
     "data": {
      "text/plain": [
       "array([ 0.83759709,  1.49916071, -0.35499053, -1.95039156, -0.17290928,\n",
       "       -0.33876894,  0.10706   ,  1.20277806])"
      ]
     },
     "execution_count": 181,
     "metadata": {},
     "output_type": "execute_result"
    }
   ],
   "source": [
    "# random array\n",
    "x = np.random.randn(8)\n",
    "x"
   ]
  },
  {
   "cell_type": "code",
   "execution_count": 182,
   "id": "c0664456",
   "metadata": {},
   "outputs": [
    {
     "data": {
      "text/plain": [
       "array([-0.12603476, -0.44210039, -0.45067446,  1.75680075,  0.34835211,\n",
       "       -0.14825101,  0.25258758,  0.59677761])"
      ]
     },
     "execution_count": 182,
     "metadata": {},
     "output_type": "execute_result"
    }
   ],
   "source": [
    "# another random array\n",
    "y = np.random.randn(8)\n",
    "y"
   ]
  },
  {
   "cell_type": "code",
   "execution_count": 183,
   "id": "cea82be6",
   "metadata": {},
   "outputs": [
    {
     "data": {
      "text/plain": [
       "array([[ 1.25579354,  0.88283161,  1.27156539],\n",
       "       [ 1.05628046, -0.01780662,  0.07860355]])"
      ]
     },
     "execution_count": 183,
     "metadata": {},
     "output_type": "execute_result"
    }
   ],
   "source": [
    "# returns element wise maximum between two arrays\n",
    "import numpy as np\n",
    "x = np.random.randn(2,3)\n",
    "y = np.random.randn(2,3)\n",
    "np.maximum(x, y)"
   ]
  },
  {
   "cell_type": "markdown",
   "id": "41100858",
   "metadata": {},
   "source": [
    "# Reshaping array:"
   ]
  },
  {
   "cell_type": "code",
   "execution_count": 184,
   "id": "f91b2476",
   "metadata": {},
   "outputs": [
    {
     "name": "stdout",
     "output_type": "stream",
     "text": [
      "[ 0  1  2  3  4  5  6  7  8  9 10 11 12 13 14 15 16 17 18 19]\n"
     ]
    }
   ],
   "source": [
    "# grab values from 0 through 19 in an array\n",
    "arr = np.arange(20)\n",
    "print(arr)"
   ]
  },
  {
   "cell_type": "code",
   "execution_count": 185,
   "id": "531d08f7",
   "metadata": {},
   "outputs": [
    {
     "data": {
      "text/plain": [
       "array([[ 0,  1,  2,  3,  4],\n",
       "       [ 5,  6,  7,  8,  9],\n",
       "       [10, 11, 12, 13, 14],\n",
       "       [15, 16, 17, 18, 19]])"
      ]
     },
     "execution_count": 185,
     "metadata": {},
     "output_type": "execute_result"
    }
   ],
   "source": [
    "arr.reshape(4,5)"
   ]
  },
  {
   "cell_type": "code",
   "execution_count": 186,
   "id": "d1affdc4",
   "metadata": {},
   "outputs": [
    {
     "data": {
      "text/plain": [
       "array([ 0,  1,  2,  3,  4,  5,  6,  7,  8,  9, 10, 11, 12, 13, 14, 15, 16,\n",
       "       17, 18, 19])"
      ]
     },
     "execution_count": 186,
     "metadata": {},
     "output_type": "execute_result"
    }
   ],
   "source": [
    "arr.T"
   ]
  },
  {
   "cell_type": "code",
   "execution_count": 187,
   "id": "e1f03b7c",
   "metadata": {},
   "outputs": [
    {
     "name": "stdout",
     "output_type": "stream",
     "text": [
      "[ 1 22  3 44  5]\n"
     ]
    }
   ],
   "source": [
    "# indexing using where\n",
    "\n",
    "x1=np.array([1,2,3,4,5])\n",
    "y1=np.array([11,22,33,44,55])\n",
    "filter=np.array([True, False,True,False,True])\n",
    "# where we have true in filter it will print x_1 value and for false y_1 value\n",
    "# this is the working of .where function\n",
    "print(np.where(filter,x1,y1))"
   ]
  },
  {
   "cell_type": "code",
   "execution_count": 188,
   "id": "aefe3482",
   "metadata": {},
   "outputs": [],
   "source": [
    "mat=np.random.rand(5,5)"
   ]
  },
  {
   "cell_type": "code",
   "execution_count": 189,
   "id": "1eed0aa8",
   "metadata": {},
   "outputs": [
    {
     "data": {
      "text/plain": [
       "array([[0.38896586, 0.4942177 , 0.86233044, 0.86661716, 0.39501338],\n",
       "       [0.3429719 , 0.54900534, 0.0276192 , 0.21925722, 0.14961198],\n",
       "       [0.8047594 , 0.64149139, 0.67985852, 0.01791659, 0.23550595],\n",
       "       [0.74931497, 0.84979934, 0.02150138, 0.69107337, 0.69166507],\n",
       "       [0.39903184, 0.60191385, 0.2072713 , 0.52176751, 0.62843277]])"
      ]
     },
     "execution_count": 189,
     "metadata": {},
     "output_type": "execute_result"
    }
   ],
   "source": [
    "mat\n"
   ]
  },
  {
   "cell_type": "code",
   "execution_count": 190,
   "id": "1fdbddb0",
   "metadata": {},
   "outputs": [
    {
     "name": "stdout",
     "output_type": "stream",
     "text": [
      "[[  -1   -1 1000 1000   -1]\n",
      " [  -1 1000   -1   -1   -1]\n",
      " [1000 1000 1000   -1   -1]\n",
      " [1000 1000   -1 1000 1000]\n",
      " [  -1 1000   -1 1000 1000]]\n"
     ]
    }
   ],
   "source": [
    "print(np.where(mat>0.5,1000, -1))"
   ]
  },
  {
   "cell_type": "code",
   "execution_count": 191,
   "id": "00987cd3",
   "metadata": {},
   "outputs": [
    {
     "data": {
      "text/plain": [
       "'\\niF mat>0.5 \\nreplace 1000\\nelse:\\nreplace -1\\n\\n'"
      ]
     },
     "execution_count": 191,
     "metadata": {},
     "output_type": "execute_result"
    }
   ],
   "source": [
    "'''\n",
    "iF mat>0.5 \n",
    "replace 1000\n",
    "else:\n",
    "replace -1\n",
    "\n",
    "'''"
   ]
  },
  {
   "cell_type": "markdown",
   "id": "4d23f61c",
   "metadata": {},
   "source": [
    "# any and all conditions"
   ]
  },
  {
   "cell_type": "code",
   "execution_count": 192,
   "id": "bbe1645d",
   "metadata": {},
   "outputs": [
    {
     "data": {
      "text/plain": [
       "True"
      ]
     },
     "execution_count": 192,
     "metadata": {},
     "output_type": "execute_result"
    }
   ],
   "source": [
    "arr_bull=np.array([True, True, False, False])\n",
    "arr_bull.any()"
   ]
  },
  {
   "cell_type": "code",
   "execution_count": 193,
   "id": "c14911b0",
   "metadata": {},
   "outputs": [],
   "source": [
    "# returns true if any value true"
   ]
  },
  {
   "cell_type": "code",
   "execution_count": 194,
   "id": "d9796560",
   "metadata": {},
   "outputs": [
    {
     "data": {
      "text/plain": [
       "False"
      ]
     },
     "execution_count": 194,
     "metadata": {},
     "output_type": "execute_result"
    }
   ],
   "source": [
    "arr_bull.all() # are all values True\n"
   ]
  },
  {
   "cell_type": "markdown",
   "id": "7d0c8d66",
   "metadata": {},
   "source": [
    "\n",
    "# Merging data sets:"
   ]
  },
  {
   "cell_type": "code",
   "execution_count": 195,
   "id": "4f6c62c1",
   "metadata": {},
   "outputs": [
    {
     "name": "stdout",
     "output_type": "stream",
     "text": [
      "[[37  6]\n",
      " [18 20]]\n",
      "\n",
      "[[21 21]\n",
      " [38 23]]\n"
     ]
    }
   ],
   "source": [
    "k=np.random.randint(low=2, high=50,size=(2,2))\n",
    "print(k)\n",
    "\n",
    "print()\n",
    "M = np.random.randint(low=2,high=50,size=(2,2))\n",
    "print(M)"
   ]
  },
  {
   "cell_type": "code",
   "execution_count": 196,
   "id": "6f286d65",
   "metadata": {},
   "outputs": [
    {
     "data": {
      "text/plain": [
       "array([[37,  6],\n",
       "       [18, 20],\n",
       "       [21, 21],\n",
       "       [38, 23]])"
      ]
     },
     "execution_count": 196,
     "metadata": {},
     "output_type": "execute_result"
    }
   ],
   "source": [
    "np.vstack((k,M))  # join vertically"
   ]
  },
  {
   "cell_type": "code",
   "execution_count": 197,
   "id": "239492f3",
   "metadata": {},
   "outputs": [
    {
     "data": {
      "text/plain": [
       "array([[37,  6, 21, 21],\n",
       "       [18, 20, 38, 23]])"
      ]
     },
     "execution_count": 197,
     "metadata": {},
     "output_type": "execute_result"
    }
   ],
   "source": [
    "np.hstack((k,M)) # join horizontally"
   ]
  },
  {
   "cell_type": "code",
   "execution_count": 198,
   "id": "7bbd18eb",
   "metadata": {},
   "outputs": [
    {
     "data": {
      "text/plain": [
       "array([[37,  6],\n",
       "       [18, 20],\n",
       "       [21, 21],\n",
       "       [38, 23]])"
      ]
     },
     "execution_count": 198,
     "metadata": {},
     "output_type": "execute_result"
    }
   ],
   "source": [
    "np.concatenate([k,M], axis=0)"
   ]
  },
  {
   "cell_type": "code",
   "execution_count": 199,
   "id": "b72f8dd2",
   "metadata": {},
   "outputs": [
    {
     "data": {
      "text/plain": [
       "array([[37,  6, 21, 21],\n",
       "       [18, 20, 38, 23]])"
      ]
     },
     "execution_count": 199,
     "metadata": {},
     "output_type": "execute_result"
    }
   ],
   "source": [
    "np.concatenate([k,M], axis=1)"
   ]
  },
  {
   "cell_type": "code",
   "execution_count": 200,
   "id": "1907ba93",
   "metadata": {},
   "outputs": [
    {
     "name": "stdout",
     "output_type": "stream",
     "text": [
      "[[1 1]\n",
      " [1 1]]\n",
      "\n",
      "[[2 2]\n",
      " [2 2]]\n",
      "[[4 4]\n",
      " [4 4]]\n",
      "[[4 4]\n",
      " [4 4]]\n"
     ]
    }
   ],
   "source": [
    "# dot product of matrics and inner product of vectors: \n",
    "\n",
    "x2d=np.array([[1,1],[1,1]])\n",
    "y2d=np.array([[2,2],[2,2]])\n",
    "\n",
    "print(x2d)\n",
    "print()\n",
    "print(y2d)\n",
    "print(x2d.dot(y2d))\n",
    "#or\n",
    "print(np.dot(x2d,y2d))"
   ]
  },
  {
   "cell_type": "code",
   "execution_count": 201,
   "id": "b7d7f529",
   "metadata": {},
   "outputs": [
    {
     "name": "stdout",
     "output_type": "stream",
     "text": [
      "10\n",
      "\n",
      "10\n"
     ]
    }
   ],
   "source": [
    "# determine inner product of two vector\n",
    "\n",
    "x=np.array([1,1])\n",
    "y=np.array([5,5])\n",
    "print(np.dot(x,y))\n",
    "\n",
    "print()\n",
    "print(x.dot(y))\n"
   ]
  },
  {
   "cell_type": "markdown",
   "id": "f27bac5f",
   "metadata": {},
   "source": [
    "# sum"
   ]
  },
  {
   "cell_type": "code",
   "execution_count": 247,
   "id": "a647ac2c",
   "metadata": {},
   "outputs": [
    {
     "name": "stdout",
     "output_type": "stream",
     "text": [
      "110\n"
     ]
    }
   ],
   "source": [
    "ex1=np.array([[11,22],[23,54]])\n",
    "print(np.sum(ex1))  # add all element"
   ]
  },
  {
   "cell_type": "code",
   "execution_count": 251,
   "id": "6dd1a9df",
   "metadata": {},
   "outputs": [
    {
     "name": "stdout",
     "output_type": "stream",
     "text": [
      "[33 77]\n"
     ]
    }
   ],
   "source": [
    "print(np.sum(ex1, axis=1)) # colum wise "
   ]
  },
  {
   "cell_type": "code",
   "execution_count": 252,
   "id": "96f74b63",
   "metadata": {},
   "outputs": [
    {
     "name": "stdout",
     "output_type": "stream",
     "text": [
      "[34 76]\n"
     ]
    }
   ],
   "source": [
    "print(np.sum(ex1, axis=0)) #Row wise"
   ]
  },
  {
   "cell_type": "markdown",
   "id": "c7dfe0b8",
   "metadata": {},
   "source": [
    "# element wise function"
   ]
  },
  {
   "cell_type": "code",
   "execution_count": 214,
   "id": "48882865",
   "metadata": {},
   "outputs": [
    {
     "data": {
      "text/plain": [
       "array([ 1.10884229, -0.24731538, -1.45469036,  0.66867274,  0.50890176,\n",
       "        0.92109032, -1.49069895,  2.09258319])"
      ]
     },
     "execution_count": 214,
     "metadata": {},
     "output_type": "execute_result"
    }
   ],
   "source": [
    "x=np.random.randn(8)\n",
    "x"
   ]
  },
  {
   "cell_type": "code",
   "execution_count": 215,
   "id": "8afd6c6a",
   "metadata": {},
   "outputs": [
    {
     "data": {
      "text/plain": [
       "array([-0.16413986,  0.20308779, -0.80601822, -0.67025353, -0.14269572,\n",
       "        0.80612231, -1.61188655,  0.20479575])"
      ]
     },
     "execution_count": 215,
     "metadata": {},
     "output_type": "execute_result"
    }
   ],
   "source": [
    "# another random array\n",
    "\n",
    "y=np.random.randn(8)\n",
    "y"
   ]
  },
  {
   "cell_type": "code",
   "execution_count": 216,
   "id": "c97e4834",
   "metadata": {},
   "outputs": [
    {
     "data": {
      "text/plain": [
       "array([[1.99061881, 1.41719831, 0.54707156],\n",
       "       [1.93717965, 1.58551732, 0.6273417 ]])"
      ]
     },
     "execution_count": 216,
     "metadata": {},
     "output_type": "execute_result"
    }
   ],
   "source": [
    "import numpy as np\n",
    "x=np.random.randn(2,3)\n",
    "y=np.random.randn(2,3)\n",
    "np.maximum(x,y)"
   ]
  },
  {
   "cell_type": "code",
   "execution_count": 217,
   "id": "70b51806",
   "metadata": {},
   "outputs": [],
   "source": [
    "# reshaping an array\n"
   ]
  },
  {
   "cell_type": "code",
   "execution_count": 218,
   "id": "3a5b4b79",
   "metadata": {},
   "outputs": [
    {
     "name": "stdout",
     "output_type": "stream",
     "text": [
      "[0 1 2 3 4 5 6 7 8 9]\n"
     ]
    }
   ],
   "source": [
    "arr=np.arange(10)\n",
    "print(arr)"
   ]
  },
  {
   "cell_type": "code",
   "execution_count": 219,
   "id": "9a53af45",
   "metadata": {},
   "outputs": [
    {
     "data": {
      "text/plain": [
       "array([[0, 1, 2, 3, 4],\n",
       "       [5, 6, 7, 8, 9]])"
      ]
     },
     "execution_count": 219,
     "metadata": {},
     "output_type": "execute_result"
    }
   ],
   "source": [
    "arr.reshape(2,5)"
   ]
  },
  {
   "cell_type": "markdown",
   "id": "0af96224",
   "metadata": {},
   "source": [
    "# Transpose"
   ]
  },
  {
   "cell_type": "code",
   "execution_count": 220,
   "id": "278e710a",
   "metadata": {},
   "outputs": [
    {
     "data": {
      "text/plain": [
       "array([[12, 23],\n",
       "       [32, 44]])"
      ]
     },
     "execution_count": 220,
     "metadata": {},
     "output_type": "execute_result"
    }
   ],
   "source": [
    "arr1=np.array([[12,32],[23,44]])\n",
    "arr1.T"
   ]
  },
  {
   "cell_type": "markdown",
   "id": "23c026e9",
   "metadata": {},
   "source": [
    "# indexing using where ()"
   ]
  },
  {
   "cell_type": "code",
   "execution_count": 221,
   "id": "5854ff62",
   "metadata": {},
   "outputs": [],
   "source": [
    "x1=np.array([1,2,3,4,5,5,6])\n",
    "y1=np.array([9,7,5,4,3,3,3])\n",
    "filter=np.array([True, False,True,True,False,False,True])\n",
    "# wherer we have true in filter it will print x1 for false it will print y1\n",
    "#this is working of filter"
   ]
  },
  {
   "cell_type": "code",
   "execution_count": 222,
   "id": "ff5894ad",
   "metadata": {},
   "outputs": [
    {
     "name": "stdout",
     "output_type": "stream",
     "text": [
      "[1 7 3 4 3 3 6]\n"
     ]
    }
   ],
   "source": [
    "out=np.where(filter,x1,y1)\n",
    "print(out)"
   ]
  },
  {
   "cell_type": "code",
   "execution_count": 223,
   "id": "5f0474e0",
   "metadata": {},
   "outputs": [],
   "source": [
    "mat=np.random.rand(5,5)"
   ]
  },
  {
   "cell_type": "code",
   "execution_count": 224,
   "id": "2ce17b0a",
   "metadata": {},
   "outputs": [
    {
     "data": {
      "text/plain": [
       "array([[0.96450548, 0.15795463, 0.41702716, 0.70877364, 0.05930341],\n",
       "       [0.19043076, 0.79181724, 0.8292468 , 0.05599694, 0.07477867],\n",
       "       [0.22422185, 0.0775311 , 0.52265255, 0.77915356, 0.62367029],\n",
       "       [0.00814772, 0.74578614, 0.39738082, 0.13808803, 0.13547509],\n",
       "       [0.22942989, 0.94794316, 0.36439777, 0.52279233, 0.38878376]])"
      ]
     },
     "execution_count": 224,
     "metadata": {},
     "output_type": "execute_result"
    }
   ],
   "source": [
    "mat"
   ]
  },
  {
   "cell_type": "code",
   "execution_count": 225,
   "id": "6beb2c0e",
   "metadata": {},
   "outputs": [
    {
     "data": {
      "text/plain": [
       "array([[1000,   -2,   -2, 1000,   -2],\n",
       "       [  -2, 1000, 1000,   -2,   -2],\n",
       "       [  -2,   -2, 1000, 1000, 1000],\n",
       "       [  -2, 1000,   -2,   -2,   -2],\n",
       "       [  -2, 1000,   -2, 1000,   -2]])"
      ]
     },
     "execution_count": 225,
     "metadata": {},
     "output_type": "execute_result"
    }
   ],
   "source": [
    "np.where(mat >0.5, 1000, -2)"
   ]
  },
  {
   "cell_type": "code",
   "execution_count": 226,
   "id": "2614abaa",
   "metadata": {},
   "outputs": [
    {
     "data": {
      "text/plain": [
       "'\\n\\nif mat> 0.5 replace it with 1000 \\nelse\\nreplace it with -2\\n'"
      ]
     },
     "execution_count": 226,
     "metadata": {},
     "output_type": "execute_result"
    }
   ],
   "source": [
    "'''\n",
    "\n",
    "if mat> 0.5 replace it with 1000 \n",
    "else\n",
    "replace it with -2\n",
    "'''"
   ]
  },
  {
   "cell_type": "code",
   "execution_count": 227,
   "id": "e0d6ce50",
   "metadata": {},
   "outputs": [
    {
     "data": {
      "text/plain": [
       "True"
      ]
     },
     "execution_count": 227,
     "metadata": {},
     "output_type": "execute_result"
    }
   ],
   "source": [
    "# any and all condition\n",
    "\n",
    "arr_bools=np.array([True, False, True])\n",
    "arr_bools.any()  # any function returns true if any value is true"
   ]
  },
  {
   "cell_type": "code",
   "execution_count": 228,
   "id": "a50b6447",
   "metadata": {},
   "outputs": [
    {
     "data": {
      "text/plain": [
       "False"
      ]
     },
     "execution_count": 228,
     "metadata": {},
     "output_type": "execute_result"
    }
   ],
   "source": [
    "# all condition\n",
    "\n",
    "arr_bools.all()  # returns true if all valuse are true"
   ]
  },
  {
   "cell_type": "markdown",
   "id": "4123e6d9",
   "metadata": {},
   "source": [
    "# Random no generation"
   ]
  },
  {
   "cell_type": "code",
   "execution_count": 229,
   "id": "562da3d9",
   "metadata": {},
   "outputs": [
    {
     "name": "stdout",
     "output_type": "stream",
     "text": [
      "[23 31 10 39 29]\n"
     ]
    }
   ],
   "source": [
    "a=np.random.randint(low=2, high=50,size=5)\n",
    "print(a)"
   ]
  },
  {
   "cell_type": "code",
   "execution_count": 230,
   "id": "f12a856e",
   "metadata": {},
   "outputs": [
    {
     "data": {
      "text/plain": [
       "array([23, 31, 10, 39, 29])"
      ]
     },
     "execution_count": 230,
     "metadata": {},
     "output_type": "execute_result"
    }
   ],
   "source": [
    "np.random.permutation(a)   # returns ordering of element in a"
   ]
  },
  {
   "cell_type": "code",
   "execution_count": 231,
   "id": "99fc886e",
   "metadata": {},
   "outputs": [
    {
     "data": {
      "text/plain": [
       "array([0.55583238, 0.60791059, 0.36382358, 0.20721966])"
      ]
     },
     "execution_count": 231,
     "metadata": {},
     "output_type": "execute_result"
    }
   ],
   "source": [
    "np.random.uniform(size=4)   # uniform distribution"
   ]
  },
  {
   "cell_type": "code",
   "execution_count": 232,
   "id": "1363635a",
   "metadata": {},
   "outputs": [],
   "source": [
    "y=np.random.normal(size=(1,5))"
   ]
  },
  {
   "cell_type": "code",
   "execution_count": 233,
   "id": "01991158",
   "metadata": {},
   "outputs": [
    {
     "data": {
      "text/plain": [
       "array([[-0.23042277,  0.12603173,  0.48003437, -0.63642144,  0.72061825]])"
      ]
     },
     "execution_count": 233,
     "metadata": {},
     "output_type": "execute_result"
    }
   ],
   "source": [
    "y"
   ]
  },
  {
   "cell_type": "markdown",
   "id": "af721038",
   "metadata": {},
   "source": [
    "# merging data sets"
   ]
  },
  {
   "cell_type": "code",
   "execution_count": 234,
   "id": "de6db432",
   "metadata": {},
   "outputs": [
    {
     "data": {
      "text/plain": [
       "array([[12, 33],\n",
       "       [37, 26]])"
      ]
     },
     "execution_count": 234,
     "metadata": {},
     "output_type": "execute_result"
    }
   ],
   "source": [
    "a=np.random.randint(low=2, high=39,size=(2,2))\n",
    "a\n",
    "\n"
   ]
  },
  {
   "cell_type": "code",
   "execution_count": 235,
   "id": "3b61c339",
   "metadata": {},
   "outputs": [
    {
     "data": {
      "text/plain": [
       "array([[20, 24],\n",
       "       [ 5, 23]])"
      ]
     },
     "execution_count": 235,
     "metadata": {},
     "output_type": "execute_result"
    }
   ],
   "source": [
    "b=np.random.randint(low=2, high=39,size=(2,2))\n",
    "b"
   ]
  },
  {
   "cell_type": "code",
   "execution_count": 236,
   "id": "769246bc",
   "metadata": {},
   "outputs": [
    {
     "data": {
      "text/plain": [
       "array([[12, 33, 20, 24],\n",
       "       [37, 26,  5, 23]])"
      ]
     },
     "execution_count": 236,
     "metadata": {},
     "output_type": "execute_result"
    }
   ],
   "source": [
    "np.hstack((a,b))"
   ]
  },
  {
   "cell_type": "code",
   "execution_count": 237,
   "id": "30ef30e5",
   "metadata": {},
   "outputs": [
    {
     "data": {
      "text/plain": [
       "array([[12, 33],\n",
       "       [37, 26],\n",
       "       [20, 24],\n",
       "       [ 5, 23]])"
      ]
     },
     "execution_count": 237,
     "metadata": {},
     "output_type": "execute_result"
    }
   ],
   "source": [
    "np.vstack((a,b))"
   ]
  },
  {
   "cell_type": "code",
   "execution_count": 238,
   "id": "f280daa3",
   "metadata": {},
   "outputs": [
    {
     "data": {
      "text/plain": [
       "array([[12, 33, 20, 24],\n",
       "       [37, 26,  5, 23]])"
      ]
     },
     "execution_count": 238,
     "metadata": {},
     "output_type": "execute_result"
    }
   ],
   "source": [
    "np.concatenate([a,b], axis=1)    #row wise"
   ]
  },
  {
   "cell_type": "code",
   "execution_count": 239,
   "id": "5e4477b7",
   "metadata": {},
   "outputs": [],
   "source": [
    "# np.concatenate([a,b], axis=0)   colum wise"
   ]
  }
 ],
 "metadata": {
  "kernelspec": {
   "display_name": "Python 3 (ipykernel)",
   "language": "python",
   "name": "python3"
  },
  "language_info": {
   "codemirror_mode": {
    "name": "ipython",
    "version": 3
   },
   "file_extension": ".py",
   "mimetype": "text/x-python",
   "name": "python",
   "nbconvert_exporter": "python",
   "pygments_lexer": "ipython3",
   "version": "3.9.12"
  }
 },
 "nbformat": 4,
 "nbformat_minor": 5
}
